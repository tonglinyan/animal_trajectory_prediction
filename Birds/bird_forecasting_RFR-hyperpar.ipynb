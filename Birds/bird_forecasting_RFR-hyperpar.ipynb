{
 "cells": [
  {
   "cell_type": "code",
   "execution_count": 2,
   "id": "b3b65255",
   "metadata": {},
   "outputs": [],
   "source": [
    "import pandas as pd\n",
    "from pandas import DataFrame\n",
    "import numpy as np\n",
    "import math\n",
    "from random import random\n",
    "import matplotlib.pyplot as plt\n",
    "import seaborn as sns\n",
    "import operator\n",
    "from functools import reduce\n",
    "from tqdm import tqdm\n",
    "import matplotlib.animation as ani\n",
    "from sklearn.feature_selection import RFE\n",
    "from sklearn.ensemble import RandomForestRegressor\n",
    "from statsmodels.tsa.seasonal import seasonal_decompose\n",
    "from statsmodels.tsa.stattools import adfuller\n",
    "from sklearn.metrics import mean_squared_error\n",
    "from sklearn.metrics import explained_variance_score\n",
    "from sklearn.metrics import r2_score\n",
    "from sklearn.model_selection import GridSearchCV\n",
    "import random\n",
    "random.seed(12345)"
   ]
  },
  {
   "cell_type": "code",
   "execution_count": 3,
   "id": "f702cd9c",
   "metadata": {},
   "outputs": [],
   "source": [
    "np.set_printoptions(formatter={'float': lambda x: \"{0:0.3f}\".format(x)})\n",
    "plt.rcParams[\"font.family\"] = \"Times New Roman\"\n",
    "plt.style.use('seaborn-whitegrid')\n",
    "plt.style.use('seaborn-poster')\n",
    "plt.style.use('seaborn-dark-palette')\n",
    "plt.rcParams[\"mathtext.fontset\"] = \"cm\""
   ]
  },
  {
   "cell_type": "code",
   "execution_count": 5,
   "id": "833ee7f8",
   "metadata": {},
   "outputs": [],
   "source": [
    "def hyperparameter_tuning(df_forecasting, coef, radar, n_estimators):\n",
    "    \n",
    "    #print(df_forecasting)\n",
    "    X = df_forecasting.iloc[:,1:]\n",
    "    y = df_forecasting.iloc[:,0]\n",
    "    x_train, x_valid = X[:int(coef * (len(X)/30))*30], X[int(coef * (len(X)/30))*30:]\n",
    "    y_train, y_valid = y[:int(coef * (len(y)/30))*30], y[int(coef * (len(y)/30))*30:]\n",
    "    \n",
    "    #param_test1 = {'n_estimators':[10, 50, 100, 150, 200]}\n",
    "    #model = RandomForestRegressor()\n",
    "    \n",
    "    param_grid = [{'n_estimators': n_estimators, 'random_state':[100]}]\n",
    "                  #{'bootstrap': [False], 'n_estimators': [3, 10], 'max_features': [2, 3, 4]},]\n",
    "\n",
    "    forest_reg = RandomForestRegressor(n_jobs = -1)\n",
    "    grid_search = GridSearchCV(forest_reg, param_grid, cv=5, scoring='neg_mean_squared_error')\n",
    " \n",
    "    grid_search.fit(x_train, y_train)\n",
    "    print(grid_search.best_params_)\n",
    "    \n",
    "    pred = grid_search.best_estimator_.predict(x_valid)\n",
    "    pred = pd.Series(pred, index = y_valid.index)\n",
    "    \n",
    "    return pred, grid_search.best_params_\n",
    "\n",
    "def drop_altitude(data):\n",
    "    df = []\n",
    "    for i in tqdm(np.arange(0, len(data), 30)):\n",
    "        df.append(data[i:i+30].sum())\n",
    "    return df\n"
   ]
  },
  {
   "cell_type": "code",
   "execution_count": 35,
   "id": "e4ab5d3f",
   "metadata": {},
   "outputs": [],
   "source": [
    "def hyperparameter_tuning1(df_forecasting, coef, radar, n_estimators, max_depth):\n",
    "    \n",
    "    #print(df_forecasting)\n",
    "    X = df_forecasting.iloc[:,1:]\n",
    "    y = df_forecasting.iloc[:,0]\n",
    "    x_train, x_valid = X[:int(coef * (len(X)/30))*30], X[int(coef * (len(X)/30))*30:]\n",
    "    y_train, y_valid = y[:int(coef * (len(y)/30))*30], y[int(coef * (len(y)/30))*30:]\n",
    "    \n",
    "    #param_test1 = {'n_estimators':[10, 50, 100, 150, 200]}\n",
    "    #model = RandomForestRegressor()\n",
    "    \n",
    "    param_grid = [{'n_estimators': n_estimators, 'max_depth':max_depth, 'random_state':[100]}]\n",
    "                  #{'bootstrap': [False], 'n_estimators': [3, 10], 'max_features': [2, 3, 4]},]\n",
    "\n",
    "    forest_reg = RandomForestRegressor(n_jobs = -1)\n",
    "    grid_search = GridSearchCV(forest_reg, param_grid, cv=5, scoring='neg_mean_squared_error')\n",
    " \n",
    "    grid_search.fit(x_train, y_train)\n",
    "    print(grid_search.best_params_)\n",
    "    \n",
    "    pred = grid_search.best_estimator_.predict(x_valid)\n",
    "    pred = pd.Series(pred, index = y_valid.index)\n",
    "    \n",
    "    return pred, grid_search.best_params_"
   ]
  },
  {
   "cell_type": "markdown",
   "id": "21d3c358",
   "metadata": {},
   "source": [
    "# weather with altitude and mean"
   ]
  },
  {
   "cell_type": "markdown",
   "id": "3a998300",
   "metadata": {},
   "source": [
    "## n_estimators"
   ]
  },
  {
   "cell_type": "code",
   "execution_count": 31,
   "id": "2181f63c",
   "metadata": {},
   "outputs": [
    {
     "name": "stdout",
     "output_type": "stream",
     "text": [
      "['KABR' 'KABX' 'KAKQ' 'KAMA' 'KAMX' 'KAPX' 'KARX' 'KATX' 'KBBX' 'KBGM'\n",
      " 'KBHX' 'KBIS' 'KBLX' 'KBMX' 'KBOX' 'KBRO' 'KBUF' 'KBYX' 'KCAE' 'KCBW'\n",
      " 'KCBX' 'KCCX' 'KCLE' 'KCLX' 'KCRP' 'KCXX' 'KCYS' 'KDAX' 'KDDC' 'KDFX'\n",
      " 'KDGX' 'KDIX' 'KDLH' 'KDMX' 'KDOX' 'KDTX' 'KDVN' 'KDYX' 'KEAX' 'KEMX'\n",
      " 'KENX' 'KEPZ' 'KESX' 'KEVX' 'KEWX' 'KEYX' 'KFCX' 'KFDR' 'KFDX' 'KFFC'\n",
      " 'KFSD' 'KFSX' 'KFTG' 'KFWS' 'KGGW' 'KGJX' 'KGLD' 'KGRB' 'KGRK' 'KGRR'\n",
      " 'KGSP' 'KGWX' 'KGYX' 'KHDX' 'KHGX' 'KHNX' 'KHTX' 'KICT' 'KICX' 'KILN'\n",
      " 'KILX' 'KIND' 'KINX' 'KIWA' 'KIWX' 'KJAX' 'KJGX' 'KJKL' 'KLBB' 'KLCH'\n",
      " 'KLIX' 'KLNX' 'KLOT' 'KLRX' 'KLSX' 'KLTX' 'KLVX' 'KLWX' 'KLZK' 'KMAF'\n",
      " 'KMAX' 'KMHX' 'KMKX' 'KMLB' 'KMOB' 'KMPX' 'KMQT' 'KMRX' 'KMSX' 'KMTX'\n",
      " 'KMUX' 'KMVX' 'KNKX' 'KNQA' 'KOAX' 'KOHX' 'KOKX' 'KOTX' 'KPAH' 'KPBZ'\n",
      " 'KPDT' 'KPUX' 'KRAX' 'KRGX' 'KRIW' 'KRLX' 'KRTX' 'KSFX' 'KSGF' 'KSHV'\n",
      " 'KSJT' 'KSOX' 'KSRX' 'KTBW' 'KTFX' 'KTLH' 'KTLX' 'KTWX' 'KTYX' 'KUDX'\n",
      " 'KUEX' 'KVNX' 'KVTX' 'KVWX' 'KYUX']\n"
     ]
    }
   ],
   "source": [
    "radars = pd.read_csv('../dataset/radar.csv').values.reshape(1, -1)\n",
    "radars = radars[0]\n",
    "print(radars)"
   ]
  },
  {
   "cell_type": "code",
   "execution_count": 33,
   "id": "556b1339",
   "metadata": {
    "scrolled": true
   },
   "outputs": [
    {
     "name": "stderr",
     "output_type": "stream",
     "text": [
      "  0%|          | 0/135 [00:00<?, ?it/s]\n",
      "100%|██████████| 455/455 [00:00<00:00, 7775.62it/s]\n",
      "\n",
      "100%|██████████| 910/910 [00:00<00:00, 214620.82it/s]\n",
      "  1%|          | 1/135 [04:43<10:32:44, 283.32s/it]"
     ]
    },
    {
     "name": "stdout",
     "output_type": "stream",
     "text": [
      "{'n_estimators': 30, 'random_state': 100}\n",
      "3 0.42650765773949595 441756767.03292763 0.42347545931953545\n"
     ]
    },
    {
     "name": "stderr",
     "output_type": "stream",
     "text": [
      "\n",
      "100%|██████████| 455/455 [00:00<00:00, 9665.62it/s]\n",
      "\n",
      "100%|██████████| 910/910 [00:00<00:00, 199686.96it/s]\n",
      "  1%|▏         | 2/135 [09:51<11:01:05, 298.23s/it]"
     ]
    },
    {
     "name": "stdout",
     "output_type": "stream",
     "text": [
      "{'n_estimators': 50, 'random_state': 100}\n",
      "3 0.5486403669561486 126356754.68635319 0.5485417103542828\n"
     ]
    },
    {
     "name": "stderr",
     "output_type": "stream",
     "text": [
      "\n",
      "100%|██████████| 455/455 [00:00<00:00, 7243.86it/s]\n",
      "\n",
      "100%|██████████| 910/910 [00:00<00:00, 120131.46it/s]"
     ]
    },
    {
     "name": "stdout",
     "output_type": "stream",
     "text": [
      "{'n_estimators': 90, 'random_state': 100}\n",
      "3 0.5905917940255563 1319145283.2864063 0.5904229690681113\n"
     ]
    },
    {
     "name": "stderr",
     "output_type": "stream",
     "text": [
      "\n",
      "  2%|▏         | 3/135 [14:55<11:01:22, 300.63s/it]\n",
      "100%|██████████| 455/455 [00:00<00:00, 9211.31it/s]\n",
      "\n",
      "100%|██████████| 910/910 [00:00<00:00, 144379.51it/s]"
     ]
    },
    {
     "name": "stdout",
     "output_type": "stream",
     "text": [
      "{'n_estimators': 100, 'random_state': 100}\n",
      "3 0.467604555117037 247008796.33681613 0.4603653297918737\n"
     ]
    },
    {
     "name": "stderr",
     "output_type": "stream",
     "text": [
      "\n",
      "  3%|▎         | 4/135 [20:09<11:07:31, 305.73s/it]\n",
      "100%|██████████| 455/455 [00:00<00:00, 8633.57it/s]\n",
      "\n",
      "100%|██████████| 910/910 [00:00<00:00, 190336.44it/s]\n",
      "  4%|▎         | 5/135 [24:35<10:31:36, 291.51s/it]"
     ]
    },
    {
     "name": "stdout",
     "output_type": "stream",
     "text": [
      "{'n_estimators': 50, 'random_state': 100}\n",
      "3 -0.8794702512757382 526698282.85636026 -0.8827318715548562\n"
     ]
    },
    {
     "name": "stderr",
     "output_type": "stream",
     "text": [
      "\n",
      "100%|██████████| 455/455 [00:00<00:00, 7910.30it/s]\n",
      "\n",
      "100%|██████████| 910/910 [00:00<00:00, 139254.14it/s]\n",
      "  4%|▍         | 6/135 [29:10<10:14:35, 285.86s/it]"
     ]
    },
    {
     "name": "stdout",
     "output_type": "stream",
     "text": [
      "{'n_estimators': 40, 'random_state': 100}\n",
      "3 0.5737514502314829 805864402.5376662 0.5718825514464303\n"
     ]
    },
    {
     "name": "stderr",
     "output_type": "stream",
     "text": [
      "\n",
      "100%|██████████| 455/455 [00:00<00:00, 8274.98it/s]\n",
      "\n",
      "100%|██████████| 910/910 [00:00<00:00, 203032.96it/s]\n",
      "  5%|▌         | 7/135 [33:24<9:47:53, 275.57s/it] "
     ]
    },
    {
     "name": "stdout",
     "output_type": "stream",
     "text": [
      "{'n_estimators': 100, 'random_state': 100}\n",
      "3 0.6455881960389958 1697775984.3959892 0.6452881018004137\n"
     ]
    },
    {
     "name": "stderr",
     "output_type": "stream",
     "text": [
      "\n",
      "100%|██████████| 455/455 [00:00<00:00, 9271.54it/s]\n",
      "\n",
      "100%|██████████| 910/910 [00:00<00:00, 191060.55it/s]\n",
      "  6%|▌         | 8/135 [37:07<9:07:36, 258.71s/it]"
     ]
    },
    {
     "name": "stdout",
     "output_type": "stream",
     "text": [
      "{'n_estimators': 90, 'random_state': 100}\n",
      "3 0.6325339277657254 527492640.8615583 0.6276158071441942\n"
     ]
    },
    {
     "name": "stderr",
     "output_type": "stream",
     "text": [
      "\n",
      "100%|██████████| 455/455 [00:00<00:00, 9484.71it/s]\n",
      "\n",
      "100%|██████████| 910/910 [00:00<00:00, 182195.65it/s]\n",
      "  7%|▋         | 9/135 [40:34<8:29:25, 242.58s/it]"
     ]
    },
    {
     "name": "stdout",
     "output_type": "stream",
     "text": [
      "{'n_estimators': 90, 'random_state': 100}\n",
      "3 0.7530712081431821 545113157.3321265 0.7518483180109174\n"
     ]
    },
    {
     "name": "stderr",
     "output_type": "stream",
     "text": [
      "\n",
      "100%|██████████| 455/455 [00:00<00:00, 9227.52it/s]\n",
      "\n",
      "100%|██████████| 910/910 [00:00<00:00, 215700.29it/s]\n",
      "  7%|▋         | 10/135 [44:46<8:31:14, 245.40s/it]"
     ]
    },
    {
     "name": "stdout",
     "output_type": "stream",
     "text": [
      "{'n_estimators': 80, 'random_state': 100}\n",
      "3 0.6401454938832194 548029361.2041845 0.6298428338091693\n"
     ]
    },
    {
     "name": "stderr",
     "output_type": "stream",
     "text": [
      "\n",
      "100%|██████████| 455/455 [00:00<00:00, 9064.61it/s]\n",
      "\n",
      "100%|██████████| 910/910 [00:00<00:00, 216201.24it/s]\n",
      "  8%|▊         | 11/135 [49:05<8:35:57, 249.65s/it]"
     ]
    },
    {
     "name": "stdout",
     "output_type": "stream",
     "text": [
      "{'n_estimators': 100, 'random_state': 100}\n",
      "3 0.7462951795301018 207414373.6274604 0.7438869798687758\n"
     ]
    },
    {
     "name": "stderr",
     "output_type": "stream",
     "text": [
      "\n",
      "100%|██████████| 455/455 [00:00<00:00, 8769.57it/s]\n",
      "\n",
      "100%|██████████| 910/910 [00:00<00:00, 193276.11it/s]\n",
      "  9%|▉         | 12/135 [53:48<8:52:48, 259.91s/it]"
     ]
    },
    {
     "name": "stdout",
     "output_type": "stream",
     "text": [
      "{'n_estimators': 100, 'random_state': 100}\n",
      "3 0.6664042411448591 334766221.0842351 0.6599712344319206\n"
     ]
    },
    {
     "name": "stderr",
     "output_type": "stream",
     "text": [
      "\n",
      "100%|██████████| 455/455 [00:00<00:00, 8960.21it/s]\n",
      "\n",
      "100%|██████████| 910/910 [00:00<00:00, 244088.80it/s]\n",
      " 10%|▉         | 13/135 [58:13<8:51:13, 261.26s/it]"
     ]
    },
    {
     "name": "stdout",
     "output_type": "stream",
     "text": [
      "{'n_estimators': 90, 'random_state': 100}\n",
      "3 0.18037838342546242 631610363.7446053 0.1748493240913206\n"
     ]
    },
    {
     "name": "stderr",
     "output_type": "stream",
     "text": [
      "\n",
      "100%|██████████| 455/455 [00:00<00:00, 9387.62it/s]\n",
      "\n",
      "100%|██████████| 910/910 [00:00<00:00, 224809.56it/s]\n",
      " 10%|█         | 14/135 [1:01:57<8:24:24, 250.12s/it]"
     ]
    },
    {
     "name": "stdout",
     "output_type": "stream",
     "text": [
      "{'n_estimators': 80, 'random_state': 100}\n",
      "3 0.5964653656562195 1397401481.3364596 0.5961768953074932\n"
     ]
    },
    {
     "name": "stderr",
     "output_type": "stream",
     "text": [
      "\n",
      "100%|██████████| 455/455 [00:00<00:00, 8838.91it/s]\n",
      "\n",
      "100%|██████████| 910/910 [00:00<00:00, 226934.81it/s]\n",
      " 11%|█         | 15/135 [1:06:36<8:37:41, 258.84s/it]"
     ]
    },
    {
     "name": "stdout",
     "output_type": "stream",
     "text": [
      "{'n_estimators': 90, 'random_state': 100}\n",
      "3 0.49263826754544915 911783870.0483294 0.48948832780166696\n"
     ]
    },
    {
     "name": "stderr",
     "output_type": "stream",
     "text": [
      "\n",
      "100%|██████████| 455/455 [00:00<00:00, 8760.44it/s]\n",
      "\n",
      "100%|██████████| 910/910 [00:00<00:00, 230136.67it/s]\n",
      " 12%|█▏        | 16/135 [1:10:15<8:09:52, 246.99s/it]"
     ]
    },
    {
     "name": "stdout",
     "output_type": "stream",
     "text": [
      "{'n_estimators': 30, 'random_state': 100}\n",
      "3 0.6587368548541839 490373951.1506026 0.6559414087400888\n"
     ]
    },
    {
     "name": "stderr",
     "output_type": "stream",
     "text": [
      "\n",
      "100%|██████████| 455/455 [00:00<00:00, 8831.18it/s]\n",
      "\n",
      "100%|██████████| 910/910 [00:00<00:00, 209152.10it/s]\n",
      " 13%|█▎        | 17/135 [1:14:30<8:10:05, 249.20s/it]"
     ]
    },
    {
     "name": "stdout",
     "output_type": "stream",
     "text": [
      "{'n_estimators': 100, 'random_state': 100}\n",
      "3 0.5899345258554558 933787016.5811658 0.5883018289664594\n"
     ]
    },
    {
     "name": "stderr",
     "output_type": "stream",
     "text": [
      "\n",
      "100%|██████████| 455/455 [00:00<00:00, 9704.59it/s]\n",
      "\n",
      "100%|██████████| 910/910 [00:00<00:00, 187254.90it/s]\n",
      " 13%|█▎        | 18/135 [1:18:39<8:06:05, 249.28s/it]"
     ]
    },
    {
     "name": "stdout",
     "output_type": "stream",
     "text": [
      "{'n_estimators': 50, 'random_state': 100}\n",
      "3 -0.09166954695792517 76968964.35690773 -0.09344979603126502\n"
     ]
    },
    {
     "name": "stderr",
     "output_type": "stream",
     "text": [
      "\n",
      "100%|██████████| 455/455 [00:00<00:00, 9139.84it/s]\n",
      "\n",
      "100%|██████████| 910/910 [00:00<00:00, 179176.45it/s]\n",
      " 14%|█▍        | 19/135 [1:22:55<8:05:27, 251.10s/it]"
     ]
    },
    {
     "name": "stdout",
     "output_type": "stream",
     "text": [
      "{'n_estimators': 100, 'random_state': 100}\n",
      "3 0.7864312747992677 724295871.3244724 0.7802279333124462\n"
     ]
    },
    {
     "name": "stderr",
     "output_type": "stream",
     "text": [
      "\n",
      "100%|██████████| 455/455 [00:00<00:00, 9146.28it/s]\n",
      "\n",
      "100%|██████████| 910/910 [00:00<00:00, 235402.53it/s]\n",
      " 15%|█▍        | 20/135 [1:27:13<8:05:35, 253.35s/it]"
     ]
    },
    {
     "name": "stdout",
     "output_type": "stream",
     "text": [
      "{'n_estimators': 100, 'random_state': 100}\n",
      "3 0.34402990162799896 1934524413.7460332 0.3415726241184739\n"
     ]
    },
    {
     "name": "stderr",
     "output_type": "stream",
     "text": [
      "\n",
      "100%|██████████| 455/455 [00:00<00:00, 9868.54it/s]\n",
      "\n",
      "100%|██████████| 910/910 [00:00<00:00, 225860.50it/s]\n",
      " 16%|█▌        | 21/135 [1:31:17<7:55:45, 250.40s/it]"
     ]
    },
    {
     "name": "stdout",
     "output_type": "stream",
     "text": [
      "{'n_estimators': 60, 'random_state': 100}\n",
      "3 0.6317973294378293 141950822.78354567 0.6294583730311982\n"
     ]
    },
    {
     "name": "stderr",
     "output_type": "stream",
     "text": [
      "\n",
      "100%|██████████| 455/455 [00:00<00:00, 9593.03it/s]\n",
      "\n",
      "100%|██████████| 910/910 [00:00<00:00, 224136.28it/s]\n",
      " 16%|█▋        | 22/135 [1:35:22<7:48:29, 248.76s/it]"
     ]
    },
    {
     "name": "stdout",
     "output_type": "stream",
     "text": [
      "{'n_estimators': 30, 'random_state': 100}\n",
      "3 0.7065253612385956 637683004.37263 0.686353262192235\n"
     ]
    },
    {
     "name": "stderr",
     "output_type": "stream",
     "text": [
      "\n",
      "100%|██████████| 455/455 [00:00<00:00, 9547.58it/s]\n",
      "\n",
      "100%|██████████| 910/910 [00:00<00:00, 227557.18it/s]\n",
      " 17%|█▋        | 23/135 [1:39:07<7:30:59, 241.60s/it]"
     ]
    },
    {
     "name": "stdout",
     "output_type": "stream",
     "text": [
      "{'n_estimators': 30, 'random_state': 100}\n",
      "3 0.7293940196015289 960377346.7510754 0.7293020107174987\n"
     ]
    },
    {
     "name": "stderr",
     "output_type": "stream",
     "text": [
      "\n",
      "100%|██████████| 455/455 [00:00<00:00, 6316.64it/s]\n",
      "\n",
      "100%|██████████| 910/910 [00:00<00:00, 132985.49it/s]"
     ]
    },
    {
     "name": "stdout",
     "output_type": "stream",
     "text": [
      "{'n_estimators': 60, 'random_state': 100}\n",
      "3"
     ]
    },
    {
     "name": "stderr",
     "output_type": "stream",
     "text": [
      "\n",
      " 18%|█▊        | 24/135 [1:43:49<7:49:21, 253.71s/it]\n",
      "100%|██████████| 455/455 [00:00<00:00, 10024.68it/s]\n",
      "\n",
      "100%|██████████| 910/910 [00:00<00:00, 222282.72it/s]\n",
      " 19%|█▊        | 25/135 [1:47:59<7:43:31, 252.83s/it]"
     ]
    },
    {
     "name": "stdout",
     "output_type": "stream",
     "text": [
      " 0.79273208135504 533677438.18989 0.7886006503378536\n",
      "{'n_estimators': 60, 'random_state': 100}\n",
      "3 0.4316064447383289 796667007.7486355 0.4220989830471702\n"
     ]
    },
    {
     "name": "stderr",
     "output_type": "stream",
     "text": [
      "\n",
      "100%|██████████| 455/455 [00:00<00:00, 8705.85it/s]\n",
      "\n",
      "100%|██████████| 910/910 [00:00<00:00, 222373.38it/s]\n",
      " 19%|█▉        | 26/135 [1:52:13<7:39:34, 252.97s/it]"
     ]
    },
    {
     "name": "stdout",
     "output_type": "stream",
     "text": [
      "{'n_estimators': 30, 'random_state': 100}\n",
      "3 0.5864421337637824 809931740.9270011 0.5856290892340146\n"
     ]
    },
    {
     "name": "stderr",
     "output_type": "stream",
     "text": [
      "\n",
      "100%|██████████| 455/455 [00:00<00:00, 8109.91it/s]\n",
      "\n",
      "100%|██████████| 910/910 [00:00<00:00, 170851.24it/s]\n",
      " 20%|██        | 27/135 [1:56:47<7:46:43, 259.30s/it]"
     ]
    },
    {
     "name": "stdout",
     "output_type": "stream",
     "text": [
      "{'n_estimators': 100, 'random_state': 100}\n",
      "3 0.6765193714677382 194364730.24691176 0.6662824129681655\n"
     ]
    },
    {
     "name": "stderr",
     "output_type": "stream",
     "text": [
      "\n",
      "  0%|          | 0/455 [00:00<?, ?it/s]\u001b[A"
     ]
    },
    {
     "name": "stdout",
     "output_type": "stream",
     "text": [
      "{'n_estimators': 100, 'random_state': 100}\n"
     ]
    },
    {
     "name": "stderr",
     "output_type": "stream",
     "text": [
      "100%|██████████| 455/455 [00:00<00:00, 7228.08it/s]\n",
      "\n",
      "100%|██████████| 910/910 [00:00<00:00, 185516.51it/s]\n",
      " 21%|██        | 28/135 [2:00:32<7:24:03, 249.01s/it]"
     ]
    },
    {
     "name": "stdout",
     "output_type": "stream",
     "text": [
      "3 0.816169143113222 321082957.88698876 0.8157438405574884\n"
     ]
    },
    {
     "name": "stderr",
     "output_type": "stream",
     "text": [
      "\n",
      "100%|██████████| 455/455 [00:00<00:00, 9057.81it/s]\n",
      "\n",
      "100%|██████████| 910/910 [00:00<00:00, 220548.75it/s]\n",
      " 21%|██▏       | 29/135 [2:05:03<7:31:52, 255.78s/it]"
     ]
    },
    {
     "name": "stdout",
     "output_type": "stream",
     "text": [
      "{'n_estimators': 70, 'random_state': 100}\n",
      "3 0.8563070344806816 158140642.49614912 0.8515128849712086\n"
     ]
    },
    {
     "name": "stderr",
     "output_type": "stream",
     "text": [
      "\n",
      "100%|██████████| 455/455 [00:00<00:00, 8793.13it/s]\n",
      "\n",
      "100%|██████████| 910/910 [00:00<00:00, 211422.85it/s]\n",
      " 22%|██▏       | 30/135 [2:08:10<6:51:37, 235.22s/it]"
     ]
    },
    {
     "name": "stdout",
     "output_type": "stream",
     "text": [
      "{'n_estimators': 30, 'random_state': 100}\n",
      "3 0.37626818580521715 873278229.2105018 0.3703506119994986\n"
     ]
    },
    {
     "name": "stderr",
     "output_type": "stream",
     "text": [
      "\n",
      "100%|██████████| 455/455 [00:00<00:00, 8949.12it/s]\n",
      "\n",
      "100%|██████████| 910/910 [00:00<00:00, 203541.84it/s]\n",
      " 23%|██▎       | 31/135 [2:11:40<6:34:23, 227.53s/it]"
     ]
    },
    {
     "name": "stdout",
     "output_type": "stream",
     "text": [
      "{'n_estimators': 40, 'random_state': 100}\n",
      "3 0.7944837753616805 682725920.2782328 0.7930686796817612\n"
     ]
    },
    {
     "name": "stderr",
     "output_type": "stream",
     "text": [
      "\n",
      "100%|██████████| 455/455 [00:00<00:00, 9691.63it/s]\n",
      "\n",
      "100%|██████████| 910/910 [00:00<00:00, 203086.98it/s]\n",
      " 24%|██▎       | 32/135 [2:16:31<7:03:22, 246.63s/it]"
     ]
    },
    {
     "name": "stdout",
     "output_type": "stream",
     "text": [
      "{'n_estimators': 90, 'random_state': 100}\n",
      "3 0.7879506473877425 254113605.64392594 0.78673059656862\n"
     ]
    },
    {
     "name": "stderr",
     "output_type": "stream",
     "text": [
      "\n",
      "100%|██████████| 455/455 [00:00<00:00, 8494.16it/s]\n",
      "\n",
      "100%|██████████| 910/910 [00:00<00:00, 205747.22it/s]\n",
      " 24%|██▍       | 33/135 [2:20:52<7:06:33, 250.91s/it]"
     ]
    },
    {
     "name": "stdout",
     "output_type": "stream",
     "text": [
      "{'n_estimators': 60, 'random_state': 100}\n",
      "3 0.33848002466837435 1096707694.8354602 0.3281400775469441\n"
     ]
    },
    {
     "name": "stderr",
     "output_type": "stream",
     "text": [
      "\n",
      "100%|██████████| 455/455 [00:00<00:00, 9394.59it/s]\n",
      "\n",
      "100%|██████████| 910/910 [00:00<00:00, 201947.97it/s]\n",
      " 25%|██▌       | 34/135 [2:24:46<6:53:30, 245.64s/it]"
     ]
    },
    {
     "name": "stdout",
     "output_type": "stream",
     "text": [
      "{'n_estimators': 50, 'random_state': 100}\n",
      "3 0.5243526901436819 1007503859.9754604 0.5239015155268614\n"
     ]
    },
    {
     "name": "stderr",
     "output_type": "stream",
     "text": [
      "\n",
      "100%|██████████| 455/455 [00:00<00:00, 9746.37it/s]\n",
      "\n",
      "100%|██████████| 910/910 [00:00<00:00, 220179.79it/s]\n",
      " 26%|██▌       | 35/135 [2:29:11<6:59:09, 251.49s/it]"
     ]
    },
    {
     "name": "stdout",
     "output_type": "stream",
     "text": [
      "{'n_estimators': 70, 'random_state': 100}\n",
      "3 0.60963202265395 722392855.4286071 0.608515804649989\n"
     ]
    },
    {
     "name": "stderr",
     "output_type": "stream",
     "text": [
      "\n",
      "100%|██████████| 455/455 [00:00<00:00, 10311.15it/s]\n",
      "\n",
      "100%|██████████| 910/910 [00:00<00:00, 236423.23it/s]\n",
      " 27%|██▋       | 36/135 [2:33:15<6:51:10, 249.20s/it]"
     ]
    },
    {
     "name": "stdout",
     "output_type": "stream",
     "text": [
      "{'n_estimators': 90, 'random_state': 100}\n",
      "3 0.7961982252205855 342010585.24200076 0.792558469225354\n"
     ]
    },
    {
     "name": "stderr",
     "output_type": "stream",
     "text": [
      "\n",
      "100%|██████████| 455/455 [00:00<00:00, 9354.85it/s]\n",
      "\n",
      "100%|██████████| 910/910 [00:00<00:00, 220332.31it/s]\n",
      " 27%|██▋       | 37/135 [2:37:12<6:41:15, 245.67s/it]"
     ]
    },
    {
     "name": "stdout",
     "output_type": "stream",
     "text": [
      "{'n_estimators': 60, 'random_state': 100}\n",
      "3 0.6876896696992285 519812892.17902434 0.6844829455458634\n"
     ]
    },
    {
     "name": "stderr",
     "output_type": "stream",
     "text": [
      "\n",
      "100%|██████████| 455/455 [00:00<00:00, 10139.24it/s]\n",
      "\n",
      "100%|██████████| 910/910 [00:00<00:00, 232562.55it/s]\n",
      " 28%|██▊       | 38/135 [2:41:17<6:37:05, 245.63s/it]"
     ]
    },
    {
     "name": "stdout",
     "output_type": "stream",
     "text": [
      "{'n_estimators': 50, 'random_state': 100}\n",
      "3 0.45534795115306015 879310666.2498423 0.44966761156331825\n"
     ]
    },
    {
     "name": "stderr",
     "output_type": "stream",
     "text": [
      "\n",
      "100%|██████████| 455/455 [00:00<00:00, 9355.36it/s]\n",
      "\n",
      "100%|██████████| 910/910 [00:00<00:00, 232378.49it/s]\n",
      " 29%|██▉       | 39/135 [2:45:31<6:36:38, 247.90s/it]"
     ]
    },
    {
     "name": "stdout",
     "output_type": "stream",
     "text": [
      "{'n_estimators': 60, 'random_state': 100}\n",
      "3 0.6544787582183056 1037423041.3931574 0.6453795180161896\n"
     ]
    },
    {
     "name": "stderr",
     "output_type": "stream",
     "text": [
      "\n",
      "100%|██████████| 455/455 [00:00<00:00, 9414.24it/s]\n",
      "\n",
      "100%|██████████| 910/910 [00:00<00:00, 193090.33it/s]\n",
      " 30%|██▉       | 40/135 [2:48:46<6:07:20, 232.00s/it]"
     ]
    },
    {
     "name": "stdout",
     "output_type": "stream",
     "text": [
      "{'n_estimators': 100, 'random_state': 100}\n",
      "3 0.6482950734655131 15337833.292633038 0.6482023466599458\n"
     ]
    },
    {
     "name": "stderr",
     "output_type": "stream",
     "text": [
      "\n",
      "100%|██████████| 455/455 [00:00<00:00, 8952.14it/s]\n",
      "\n",
      "100%|██████████| 910/910 [00:00<00:00, 219812.06it/s]\n",
      " 30%|███       | 41/135 [2:53:12<6:19:32, 242.26s/it]"
     ]
    },
    {
     "name": "stdout",
     "output_type": "stream",
     "text": [
      "{'n_estimators': 80, 'random_state': 100}\n",
      "3 0.8343418049478667 363485364.06545955 0.8343103494260333\n"
     ]
    },
    {
     "name": "stderr",
     "output_type": "stream",
     "text": [
      "\n",
      "100%|██████████| 455/455 [00:00<00:00, 8956.89it/s]\n",
      "\n",
      "100%|██████████| 910/910 [00:00<00:00, 187632.32it/s]\n",
      " 31%|███       | 42/135 [2:56:24<5:52:10, 227.21s/it]"
     ]
    },
    {
     "name": "stdout",
     "output_type": "stream",
     "text": [
      "{'n_estimators': 100, 'random_state': 100}\n",
      "3 0.65508691123823 29055367.605571765 0.6534200064228763\n"
     ]
    },
    {
     "name": "stderr",
     "output_type": "stream",
     "text": [
      "\n",
      "100%|██████████| 455/455 [00:00<00:00, 8919.25it/s]\n",
      "\n",
      "100%|██████████| 910/910 [00:00<00:00, 226369.53it/s]\n",
      " 32%|███▏      | 43/135 [3:00:26<5:55:10, 231.64s/it]"
     ]
    },
    {
     "name": "stdout",
     "output_type": "stream",
     "text": [
      "{'n_estimators': 80, 'random_state': 100}\n",
      "3 0.6716813065833284 23454325.468951944 0.6540652173305961\n"
     ]
    },
    {
     "name": "stderr",
     "output_type": "stream",
     "text": [
      "\n",
      "  0%|          | 0/455 [00:00<?, ?it/s]\u001b[A"
     ]
    },
    {
     "name": "stdout",
     "output_type": "stream",
     "text": [
      "{'n_estimators': 100, 'random_state': 100}\n"
     ]
    },
    {
     "name": "stderr",
     "output_type": "stream",
     "text": [
      "100%|██████████| 455/455 [00:00<00:00, 7573.50it/s]\n",
      "\n",
      "100%|██████████| 910/910 [00:00<00:00, 189391.98it/s]\n",
      " 33%|███▎      | 44/135 [3:05:16<6:18:10, 249.34s/it]"
     ]
    },
    {
     "name": "stdout",
     "output_type": "stream",
     "text": [
      "3 0.7449271459399842 234665829.45631942 0.7427050438681142\n"
     ]
    },
    {
     "name": "stderr",
     "output_type": "stream",
     "text": [
      "\n",
      "100%|██████████| 455/455 [00:00<00:00, 9033.16it/s]\n",
      "\n",
      "100%|██████████| 910/910 [00:00<00:00, 218954.60it/s]\n",
      " 33%|███▎      | 45/135 [3:09:01<6:02:42, 241.81s/it]"
     ]
    },
    {
     "name": "stdout",
     "output_type": "stream",
     "text": [
      "{'n_estimators': 40, 'random_state': 100}\n",
      "3 0.08398632517040483 1007126814.7754965 0.035265170431923676\n"
     ]
    },
    {
     "name": "stderr",
     "output_type": "stream",
     "text": [
      "\n",
      "100%|██████████| 180/180 [00:00<00:00, 9368.21it/s]\n",
      "\n",
      "100%|██████████| 359/359 [00:00<00:00, 194290.99it/s]\n",
      " 34%|███▍      | 46/135 [3:10:19<4:46:07, 192.89s/it]"
     ]
    },
    {
     "name": "stdout",
     "output_type": "stream",
     "text": [
      "{'n_estimators': 100, 'random_state': 100}\n",
      "3 0.302190357430553 4074525.7096325415 0.3007663903487784\n"
     ]
    },
    {
     "name": "stderr",
     "output_type": "stream",
     "text": [
      "\n",
      "100%|██████████| 455/455 [00:00<00:00, 8689.67it/s]\n",
      "\n",
      "100%|██████████| 910/910 [00:00<00:00, 218166.14it/s]\n",
      " 35%|███▍      | 47/135 [3:15:30<5:34:52, 228.33s/it]"
     ]
    },
    {
     "name": "stdout",
     "output_type": "stream",
     "text": [
      "{'n_estimators': 80, 'random_state': 100}\n",
      "3 0.8339272899972776 457784116.704486 0.8314813429159035\n"
     ]
    },
    {
     "name": "stderr",
     "output_type": "stream",
     "text": [
      "\n",
      "100%|██████████| 455/455 [00:00<00:00, 8906.06it/s]\n",
      "\n",
      "100%|██████████| 910/910 [00:00<00:00, 211974.71it/s]\n",
      " 36%|███▌      | 48/135 [3:19:36<5:38:22, 233.36s/it]"
     ]
    },
    {
     "name": "stdout",
     "output_type": "stream",
     "text": [
      "{'n_estimators': 50, 'random_state': 100}\n",
      "3 0.48042864394831886 1260242713.5653543 0.4718091520487019\n"
     ]
    },
    {
     "name": "stderr",
     "output_type": "stream",
     "text": [
      "\n",
      "100%|██████████| 455/455 [00:00<00:00, 10218.78it/s]\n",
      "\n",
      "100%|██████████| 910/910 [00:00<00:00, 245359.77it/s]\n",
      " 36%|███▋      | 49/135 [3:24:16<5:54:48, 247.54s/it]"
     ]
    },
    {
     "name": "stdout",
     "output_type": "stream",
     "text": [
      "{'n_estimators': 50, 'random_state': 100}\n",
      "3 0.6280561621892788 238240491.2124714 0.6272454894382372\n"
     ]
    },
    {
     "name": "stderr",
     "output_type": "stream",
     "text": [
      "\n",
      "100%|██████████| 455/455 [00:00<00:00, 8809.61it/s]\n",
      "\n",
      "100%|██████████| 910/910 [00:00<00:00, 202989.77it/s]\n",
      " 37%|███▋      | 50/135 [3:27:55<5:38:26, 238.91s/it]"
     ]
    },
    {
     "name": "stdout",
     "output_type": "stream",
     "text": [
      "{'n_estimators': 40, 'random_state': 100}\n",
      "3 0.6778516432620229 1047190721.865985 0.6773750995089121\n"
     ]
    },
    {
     "name": "stderr",
     "output_type": "stream",
     "text": [
      "\n",
      "100%|██████████| 455/455 [00:00<00:00, 9283.95it/s]\n",
      "\n",
      "100%|██████████| 910/910 [00:00<00:00, 230261.62it/s]\n",
      " 38%|███▊      | 51/135 [3:32:31<5:49:54, 249.94s/it]"
     ]
    },
    {
     "name": "stdout",
     "output_type": "stream",
     "text": [
      "{'n_estimators': 80, 'random_state': 100}\n",
      "3 0.5089332878931164 402590381.81484234 0.5029263154095691\n"
     ]
    },
    {
     "name": "stderr",
     "output_type": "stream",
     "text": [
      "\n",
      "100%|██████████| 455/455 [00:00<00:00, 8608.45it/s]\n",
      "\n",
      "100%|██████████| 910/910 [00:00<00:00, 218753.82it/s]\n",
      " 39%|███▊      | 52/135 [3:37:03<5:55:09, 256.74s/it]"
     ]
    },
    {
     "name": "stdout",
     "output_type": "stream",
     "text": [
      "{'n_estimators': 70, 'random_state': 100}\n",
      "3 0.6501894413233076 48984295.934891164 0.649990601036017\n"
     ]
    },
    {
     "name": "stderr",
     "output_type": "stream",
     "text": [
      "\n",
      "100%|██████████| 455/455 [00:00<00:00, 10383.86it/s]\n",
      "\n",
      "100%|██████████| 910/910 [00:00<00:00, 254166.39it/s]\n",
      " 39%|███▉      | 53/135 [3:41:12<5:47:38, 254.37s/it]"
     ]
    },
    {
     "name": "stdout",
     "output_type": "stream",
     "text": [
      "{'n_estimators': 90, 'random_state': 100}\n",
      "3 0.620703559106877 135460275.57335934 0.618515256600231\n"
     ]
    },
    {
     "name": "stderr",
     "output_type": "stream",
     "text": [
      "\n",
      "100%|██████████| 455/455 [00:00<00:00, 8579.08it/s]\n",
      "\n",
      "100%|██████████| 910/910 [00:00<00:00, 196449.46it/s]\n",
      " 40%|████      | 54/135 [3:45:03<5:33:57, 247.38s/it]"
     ]
    },
    {
     "name": "stdout",
     "output_type": "stream",
     "text": [
      "{'n_estimators': 70, 'random_state': 100}\n",
      "3 0.5236073917357262 812810250.151587 0.5156706781441401\n"
     ]
    },
    {
     "name": "stderr",
     "output_type": "stream",
     "text": [
      "\n"
     ]
    },
    {
     "name": "stdout",
     "output_type": "stream",
     "text": [
      "{'n_estimators': 100, 'random_state': 100}\n"
     ]
    },
    {
     "name": "stderr",
     "output_type": "stream",
     "text": [
      "100%|██████████| 455/455 [00:00<00:00, 5431.74it/s]\n",
      "\n",
      "100%|██████████| 910/910 [00:00<00:00, 161777.50it/s]\n",
      " 41%|████      | 55/135 [3:50:17<5:56:28, 267.36s/it]"
     ]
    },
    {
     "name": "stdout",
     "output_type": "stream",
     "text": [
      "3 0.6417558760839257 214547199.81722116 0.6331509458098517\n"
     ]
    },
    {
     "name": "stderr",
     "output_type": "stream",
     "text": [
      "\n",
      "100%|██████████| 455/455 [00:00<00:00, 9729.88it/s]\n",
      "\n",
      "100%|██████████| 910/910 [00:00<00:00, 231602.95it/s]\n",
      " 41%|████▏     | 56/135 [3:55:04<5:59:32, 273.07s/it]"
     ]
    },
    {
     "name": "stdout",
     "output_type": "stream",
     "text": [
      "{'n_estimators': 60, 'random_state': 100}\n",
      "3 0.3486029639437185 82209958.91923413 0.3283829457188112\n"
     ]
    },
    {
     "name": "stderr",
     "output_type": "stream",
     "text": [
      "\n",
      "100%|██████████| 455/455 [00:00<00:00, 9722.44it/s]\n",
      "\n",
      "100%|██████████| 910/910 [00:00<00:00, 215323.06it/s]\n",
      " 42%|████▏     | 57/135 [3:59:55<6:02:09, 278.58s/it]"
     ]
    },
    {
     "name": "stdout",
     "output_type": "stream",
     "text": [
      "{'n_estimators': 40, 'random_state': 100}\n",
      "3 0.5348905560855841 1045516794.4415493 0.5347718058883213\n"
     ]
    },
    {
     "name": "stderr",
     "output_type": "stream",
     "text": [
      "\n",
      "100%|██████████| 455/455 [00:00<00:00, 7343.08it/s]\n",
      "\n",
      "100%|██████████| 910/910 [00:00<00:00, 203389.99it/s]\n",
      " 43%|████▎     | 58/135 [4:04:29<5:55:54, 277.33s/it]"
     ]
    },
    {
     "name": "stdout",
     "output_type": "stream",
     "text": [
      "{'n_estimators': 70, 'random_state': 100}\n",
      "3 0.48221330343275737 684300761.5812424 0.4749075730204695\n"
     ]
    },
    {
     "name": "stderr",
     "output_type": "stream",
     "text": [
      "\n",
      "100%|██████████| 455/455 [00:00<00:00, 6932.26it/s]\n",
      "\n",
      "100%|██████████| 910/910 [00:00<00:00, 164532.14it/s]\n",
      " 44%|████▎     | 59/135 [4:08:42<5:41:44, 269.80s/it]"
     ]
    },
    {
     "name": "stdout",
     "output_type": "stream",
     "text": [
      "{'n_estimators': 100, 'random_state': 100}\n",
      "3 0.39718683974164093 962770864.2989928 0.3914937701432103\n"
     ]
    },
    {
     "name": "stderr",
     "output_type": "stream",
     "text": [
      "\n",
      "100%|██████████| 455/455 [00:00<00:00, 6322.00it/s]\n",
      "\n",
      "100%|██████████| 910/910 [00:00<00:00, 146817.58it/s]\n",
      " 44%|████▍     | 60/135 [4:13:42<5:48:35, 278.87s/it]"
     ]
    },
    {
     "name": "stdout",
     "output_type": "stream",
     "text": [
      "{'n_estimators': 30, 'random_state': 100}\n",
      "3 0.5576239417251682 1761836140.5397224 0.5479393231026843\n"
     ]
    },
    {
     "name": "stderr",
     "output_type": "stream",
     "text": [
      "\n",
      "100%|██████████| 455/455 [00:00<00:00, 7256.88it/s]\n",
      "\n",
      "100%|██████████| 910/910 [00:00<00:00, 195784.39it/s]\n",
      " 45%|████▌     | 61/135 [4:18:39<5:50:46, 284.41s/it]"
     ]
    },
    {
     "name": "stdout",
     "output_type": "stream",
     "text": [
      "{'n_estimators': 50, 'random_state': 100}\n",
      "3 0.6714854541569389 759463431.6323445 0.671415712186085\n"
     ]
    },
    {
     "name": "stderr",
     "output_type": "stream",
     "text": [
      "\n",
      "100%|██████████| 455/455 [00:00<00:00, 7911.78it/s]\n",
      "\n",
      "100%|██████████| 910/910 [00:00<00:00, 225406.99it/s]\n",
      " 46%|████▌     | 62/135 [4:23:03<5:38:32, 278.25s/it]"
     ]
    },
    {
     "name": "stdout",
     "output_type": "stream",
     "text": [
      "{'n_estimators': 100, 'random_state': 100}\n",
      "3 0.7891692454007997 825311041.8935705 0.7883072487606586\n"
     ]
    },
    {
     "name": "stderr",
     "output_type": "stream",
     "text": [
      "\n",
      "100%|██████████| 455/455 [00:00<00:00, 9893.41it/s]\n",
      "\n",
      "100%|██████████| 910/910 [00:00<00:00, 214777.82it/s]\n",
      " 47%|████▋     | 63/135 [4:27:51<5:37:17, 281.08s/it]"
     ]
    },
    {
     "name": "stdout",
     "output_type": "stream",
     "text": [
      "{'n_estimators': 100, 'random_state': 100}\n",
      "3 0.6044451800541619 803010120.6206878 0.6002898712627105\n"
     ]
    },
    {
     "name": "stderr",
     "output_type": "stream",
     "text": [
      "\n",
      "100%|██████████| 455/455 [00:00<00:00, 9437.66it/s]\n",
      "\n",
      "100%|██████████| 910/910 [00:00<00:00, 225980.85it/s]\n",
      " 47%|████▋     | 64/135 [4:31:39<5:14:05, 265.43s/it]"
     ]
    },
    {
     "name": "stdout",
     "output_type": "stream",
     "text": [
      "{'n_estimators': 80, 'random_state': 100}\n",
      "3 0.6386349121252438 60846253.70348724 0.6337216606481365\n"
     ]
    },
    {
     "name": "stderr",
     "output_type": "stream",
     "text": [
      "\n",
      "100%|██████████| 455/455 [00:00<00:00, 9550.16it/s]\n",
      "\n",
      "100%|██████████| 910/910 [00:00<00:00, 215031.92it/s]\n",
      " 48%|████▊     | 65/135 [4:35:11<4:50:52, 249.33s/it]"
     ]
    },
    {
     "name": "stdout",
     "output_type": "stream",
     "text": [
      "{'n_estimators': 30, 'random_state': 100}\n",
      "3 0.5162694074003125 882969783.6110373 0.50790899100122\n"
     ]
    },
    {
     "name": "stderr",
     "output_type": "stream",
     "text": [
      "\n",
      "100%|██████████| 455/455 [00:00<00:00, 9963.60it/s]\n",
      "\n",
      "100%|██████████| 910/910 [00:00<00:00, 224849.29it/s]\n",
      " 49%|████▉     | 66/135 [4:38:13<4:23:28, 229.11s/it]"
     ]
    },
    {
     "name": "stdout",
     "output_type": "stream",
     "text": [
      "{'n_estimators': 30, 'random_state': 100}\n",
      "3 0.5158514696414676 165379494.260619 0.5145721950842063\n"
     ]
    },
    {
     "name": "stderr",
     "output_type": "stream",
     "text": [
      "\n",
      "100%|██████████| 455/455 [00:00<00:00, 9812.57it/s]\n",
      "\n",
      "100%|██████████| 910/910 [00:00<00:00, 231378.31it/s]\n",
      " 50%|████▉     | 67/135 [4:42:16<4:24:22, 233.27s/it]"
     ]
    },
    {
     "name": "stdout",
     "output_type": "stream",
     "text": [
      "{'n_estimators': 100, 'random_state': 100}\n",
      "3 0.46062831123947423 1896678515.350635 0.4604463926134652\n"
     ]
    },
    {
     "name": "stderr",
     "output_type": "stream",
     "text": [
      "\n",
      "100%|██████████| 455/455 [00:00<00:00, 9407.84it/s]\n",
      "\n",
      "100%|██████████| 910/910 [00:00<00:00, 210652.72it/s]\n",
      " 50%|█████     | 68/135 [4:46:17<4:22:53, 235.42s/it]"
     ]
    },
    {
     "name": "stdout",
     "output_type": "stream",
     "text": [
      "{'n_estimators': 70, 'random_state': 100}\n",
      "3 0.6775947482881125 934285130.7137166 0.6774818264435758\n"
     ]
    },
    {
     "name": "stderr",
     "output_type": "stream",
     "text": [
      "\n",
      "100%|██████████| 455/455 [00:00<00:00, 10314.38it/s]\n",
      "\n",
      "100%|██████████| 910/910 [00:00<00:00, 253474.34it/s]\n",
      " 51%|█████     | 69/135 [4:50:57<4:33:58, 249.08s/it]"
     ]
    },
    {
     "name": "stdout",
     "output_type": "stream",
     "text": [
      "{'n_estimators': 90, 'random_state': 100}\n",
      "3 0.7730848837877715 35899603.27555694 0.7730828556461307\n"
     ]
    },
    {
     "name": "stderr",
     "output_type": "stream",
     "text": [
      "\n",
      "100%|██████████| 455/455 [00:00<00:00, 5427.64it/s]\n",
      "\n",
      "100%|██████████| 910/910 [00:00<00:00, 176901.03it/s]\n",
      " 52%|█████▏    | 70/135 [4:55:14<4:32:19, 251.38s/it]"
     ]
    },
    {
     "name": "stdout",
     "output_type": "stream",
     "text": [
      "{'n_estimators': 60, 'random_state': 100}\n",
      "3 0.7029718609866045 638166998.5332674 0.70203160667815\n"
     ]
    },
    {
     "name": "stderr",
     "output_type": "stream",
     "text": [
      "\n",
      "100%|██████████| 455/455 [00:00<00:00, 9926.03it/s]\n",
      "\n",
      "100%|██████████| 910/910 [00:00<00:00, 231042.17it/s]\n",
      " 53%|█████▎    | 71/135 [4:59:03<4:20:59, 244.67s/it]"
     ]
    },
    {
     "name": "stdout",
     "output_type": "stream",
     "text": [
      "{'n_estimators': 50, 'random_state': 100}\n",
      "3 -0.10114988909401901 2150032026.647115 -0.1255041037544833\n"
     ]
    },
    {
     "name": "stderr",
     "output_type": "stream",
     "text": [
      "\n",
      "100%|██████████| 455/455 [00:00<00:00, 8722.00it/s]\n",
      "\n",
      "100%|██████████| 910/910 [00:00<00:00, 222230.95it/s]\n",
      " 53%|█████▎    | 72/135 [5:03:09<4:17:14, 244.99s/it]"
     ]
    },
    {
     "name": "stdout",
     "output_type": "stream",
     "text": [
      "{'n_estimators': 60, 'random_state': 100}\n",
      "3 0.7125305135704194 855558036.5302502 0.7124241346059537\n"
     ]
    },
    {
     "name": "stderr",
     "output_type": "stream",
     "text": [
      "\n",
      "100%|██████████| 455/455 [00:00<00:00, 9373.51it/s]\n",
      "\n",
      "100%|██████████| 910/910 [00:00<00:00, 220612.49it/s]\n",
      " 54%|█████▍    | 73/135 [5:07:10<4:11:59, 243.86s/it]"
     ]
    },
    {
     "name": "stdout",
     "output_type": "stream",
     "text": [
      "{'n_estimators': 80, 'random_state': 100}\n",
      "3 0.5707494715578343 1534223593.2579112 0.5707347710952021\n"
     ]
    },
    {
     "name": "stderr",
     "output_type": "stream",
     "text": [
      "\n",
      "100%|██████████| 455/455 [00:00<00:00, 9813.43it/s]\n",
      "\n",
      "100%|██████████| 910/910 [00:00<00:00, 230442.35it/s]\n",
      " 55%|█████▍    | 74/135 [5:10:12<3:48:56, 225.19s/it]"
     ]
    },
    {
     "name": "stdout",
     "output_type": "stream",
     "text": [
      "{'n_estimators': 30, 'random_state': 100}\n",
      "3 0.5700675754193467 152825148.22057185 0.5602313647469446\n"
     ]
    },
    {
     "name": "stderr",
     "output_type": "stream",
     "text": [
      "\n",
      "100%|██████████| 455/455 [00:00<00:00, 9851.73it/s]\n",
      "\n",
      "100%|██████████| 910/910 [00:00<00:00, 232605.07it/s]\n",
      " 56%|█████▌    | 75/135 [5:14:30<3:55:06, 235.12s/it]"
     ]
    },
    {
     "name": "stdout",
     "output_type": "stream",
     "text": [
      "{'n_estimators': 100, 'random_state': 100}\n",
      "3 0.5905874539051197 1338040335.9648304 0.5893816863502253\n"
     ]
    },
    {
     "name": "stderr",
     "output_type": "stream",
     "text": [
      "\n",
      "100%|██████████| 455/455 [00:00<00:00, 9321.45it/s]\n",
      "\n",
      "100%|██████████| 910/910 [00:00<00:00, 219862.71it/s]\n",
      " 56%|█████▋    | 76/135 [5:18:12<3:47:16, 231.13s/it]"
     ]
    },
    {
     "name": "stdout",
     "output_type": "stream",
     "text": [
      "{'n_estimators': 40, 'random_state': 100}\n",
      "3 0.616566204322095 790849544.5596703 0.6165649006718692\n"
     ]
    },
    {
     "name": "stderr",
     "output_type": "stream",
     "text": [
      "\n",
      "100%|██████████| 455/455 [00:00<00:00, 9139.84it/s]\n",
      "\n",
      "100%|██████████| 910/910 [00:00<00:00, 219445.56it/s]\n",
      " 57%|█████▋    | 77/135 [5:22:19<3:47:59, 235.85s/it]"
     ]
    },
    {
     "name": "stdout",
     "output_type": "stream",
     "text": [
      "{'n_estimators': 30, 'random_state': 100}\n",
      "3 0.689494989666679 587105920.9836969 0.6794146542862973\n"
     ]
    },
    {
     "name": "stderr",
     "output_type": "stream",
     "text": [
      "\n",
      "100%|██████████| 455/455 [00:00<00:00, 9140.81it/s]\n",
      "\n",
      "100%|██████████| 910/910 [00:00<00:00, 209450.51it/s]\n",
      " 58%|█████▊    | 78/135 [5:26:19<3:45:15, 237.11s/it]"
     ]
    },
    {
     "name": "stdout",
     "output_type": "stream",
     "text": [
      "{'n_estimators': 100, 'random_state': 100}\n",
      "3 0.5295975135670777 1355289273.7983608 0.5290040435893064\n"
     ]
    },
    {
     "name": "stderr",
     "output_type": "stream",
     "text": [
      "\n",
      "100%|██████████| 455/455 [00:00<00:00, 9500.57it/s]\n",
      "\n",
      "100%|██████████| 910/910 [00:00<00:00, 220663.50it/s]\n",
      " 59%|█████▊    | 79/135 [5:30:27<3:44:16, 240.29s/it]"
     ]
    },
    {
     "name": "stdout",
     "output_type": "stream",
     "text": [
      "{'n_estimators': 50, 'random_state': 100}\n",
      "3 0.8632113542878104 220079250.77187234 0.8602795882016006\n"
     ]
    },
    {
     "name": "stderr",
     "output_type": "stream",
     "text": [
      "\n",
      "100%|██████████| 455/455 [00:00<00:00, 9630.45it/s]\n",
      "\n",
      "100%|██████████| 910/910 [00:00<00:00, 224202.11it/s]\n",
      " 59%|█████▉    | 80/135 [5:34:28<3:40:28, 240.51s/it]"
     ]
    },
    {
     "name": "stdout",
     "output_type": "stream",
     "text": [
      "{'n_estimators': 50, 'random_state': 100}\n",
      "3 0.3986610081416424 1378576585.2497597 0.39760709794860816\n"
     ]
    },
    {
     "name": "stderr",
     "output_type": "stream",
     "text": [
      "\n",
      "100%|██████████| 455/455 [00:00<00:00, 9674.44it/s]\n",
      "\n",
      "100%|██████████| 910/910 [00:00<00:00, 224849.29it/s]\n",
      " 60%|██████    | 81/135 [5:38:52<3:42:56, 247.72s/it]"
     ]
    },
    {
     "name": "stdout",
     "output_type": "stream",
     "text": [
      "{'n_estimators': 60, 'random_state': 100}\n",
      "3 0.3759970520370687 1657021464.0012233 0.3757097031468227\n"
     ]
    },
    {
     "name": "stderr",
     "output_type": "stream",
     "text": [
      "\n",
      "100%|██████████| 455/455 [00:00<00:00, 9779.29it/s]\n",
      "\n",
      "100%|██████████| 910/910 [00:00<00:00, 225287.25it/s]\n",
      " 61%|██████    | 82/135 [5:43:29<3:46:34, 256.50s/it]"
     ]
    },
    {
     "name": "stdout",
     "output_type": "stream",
     "text": [
      "{'n_estimators': 80, 'random_state': 100}\n",
      "3 0.4509589600893953 1373136799.868201 0.4426106803749671\n"
     ]
    },
    {
     "name": "stderr",
     "output_type": "stream",
     "text": [
      "\n",
      "100%|██████████| 455/455 [00:00<00:00, 9404.73it/s]\n",
      "\n",
      "100%|██████████| 910/910 [00:00<00:00, 209243.83it/s]\n",
      " 61%|██████▏   | 83/135 [5:47:20<3:35:37, 248.79s/it]"
     ]
    },
    {
     "name": "stdout",
     "output_type": "stream",
     "text": [
      "{'n_estimators': 30, 'random_state': 100}\n",
      "3 0.6531343786503052 809638207.5987053 0.6480284731098869\n"
     ]
    },
    {
     "name": "stderr",
     "output_type": "stream",
     "text": [
      "\n",
      "100%|██████████| 455/455 [00:00<00:00, 9814.49it/s]\n",
      "\n",
      "100%|██████████| 910/910 [00:00<00:00, 230846.54it/s]\n",
      " 62%|██████▏   | 84/135 [5:51:08<3:26:06, 242.49s/it]"
     ]
    },
    {
     "name": "stdout",
     "output_type": "stream",
     "text": [
      "{'n_estimators': 90, 'random_state': 100}\n",
      "3 0.4875323261463843 60478107.51204233 0.48347496895268627\n"
     ]
    },
    {
     "name": "stderr",
     "output_type": "stream",
     "text": [
      "\n",
      "100%|██████████| 455/455 [00:00<00:00, 9517.96it/s]\n",
      "\n",
      "100%|██████████| 910/910 [00:00<00:00, 208466.69it/s]\n",
      " 63%|██████▎   | 85/135 [5:54:56<3:18:31, 238.23s/it]"
     ]
    },
    {
     "name": "stdout",
     "output_type": "stream",
     "text": [
      "{'n_estimators': 70, 'random_state': 100}\n",
      "3 0.6096004905158279 1639020676.3465226 0.609376402504518\n"
     ]
    },
    {
     "name": "stderr",
     "output_type": "stream",
     "text": [
      "\n",
      "100%|██████████| 455/455 [00:00<00:00, 10323.31it/s]\n",
      "\n",
      "100%|██████████| 910/910 [00:00<00:00, 224968.56it/s]\n",
      " 64%|██████▎   | 86/135 [5:59:38<3:25:11, 251.26s/it]"
     ]
    },
    {
     "name": "stdout",
     "output_type": "stream",
     "text": [
      "{'n_estimators': 90, 'random_state': 100}\n",
      "3 0.8317179967128674 354342350.9948427 0.8311372954075866\n"
     ]
    },
    {
     "name": "stderr",
     "output_type": "stream",
     "text": [
      "\n",
      "100%|██████████| 455/455 [00:00<00:00, 10446.27it/s]\n",
      "\n",
      "100%|██████████| 910/910 [00:00<00:00, 235882.62it/s]\n",
      " 64%|██████▍   | 87/135 [6:03:40<3:18:53, 248.62s/it]"
     ]
    },
    {
     "name": "stdout",
     "output_type": "stream",
     "text": [
      "{'n_estimators': 90, 'random_state': 100}\n",
      "3 0.6434867451947712 341107484.44732517 0.6319803766798837\n"
     ]
    },
    {
     "name": "stderr",
     "output_type": "stream",
     "text": [
      "\n",
      "100%|██████████| 455/455 [00:00<00:00, 9503.55it/s]\n",
      "\n",
      "100%|██████████| 910/910 [00:00<00:00, 236496.48it/s]\n",
      " 65%|██████▌   | 88/135 [6:07:38<3:12:10, 245.32s/it]"
     ]
    },
    {
     "name": "stdout",
     "output_type": "stream",
     "text": [
      "{'n_estimators': 70, 'random_state': 100}\n",
      "3 0.6572360929968925 776875509.5105587 0.655018954381897\n"
     ]
    },
    {
     "name": "stderr",
     "output_type": "stream",
     "text": [
      "\n",
      "100%|██████████| 455/455 [00:00<00:00, 9087.83it/s]\n",
      "\n",
      "100%|██████████| 910/910 [00:00<00:00, 216876.90it/s]\n",
      " 66%|██████▌   | 89/135 [6:11:20<3:02:51, 238.50s/it]"
     ]
    },
    {
     "name": "stdout",
     "output_type": "stream",
     "text": [
      "{'n_estimators': 40, 'random_state': 100}\n",
      "3 0.6813033341554546 1672265810.3711722 0.6811838970868709\n"
     ]
    },
    {
     "name": "stderr",
     "output_type": "stream",
     "text": [
      "\n",
      "100%|██████████| 455/455 [00:00<00:00, 9069.91it/s]\n",
      "\n",
      "100%|██████████| 910/910 [00:00<00:00, 218340.86it/s]\n",
      " 67%|██████▋   | 90/135 [6:14:49<2:52:07, 229.50s/it]"
     ]
    },
    {
     "name": "stdout",
     "output_type": "stream",
     "text": [
      "{'n_estimators': 40, 'random_state': 100}\n",
      "3 0.7794208205177039 190871084.60682413 0.7782411810124792\n"
     ]
    },
    {
     "name": "stderr",
     "output_type": "stream",
     "text": [
      "\n",
      "100%|██████████| 455/455 [00:00<00:00, 9544.00it/s]\n",
      "\n",
      "100%|██████████| 910/910 [00:00<00:00, 219685.54it/s]\n",
      " 67%|██████▋   | 91/135 [6:19:27<2:58:56, 244.02s/it]"
     ]
    },
    {
     "name": "stdout",
     "output_type": "stream",
     "text": [
      "{'n_estimators': 30, 'random_state': 100}\n",
      "3 0.28403218243659545 62686630.952248126 0.2722429478766456\n"
     ]
    },
    {
     "name": "stderr",
     "output_type": "stream",
     "text": [
      "\n",
      "100%|██████████| 455/455 [00:00<00:00, 9298.79it/s]\n",
      "\n",
      "100%|██████████| 910/910 [00:00<00:00, 212222.22it/s]\n",
      " 68%|██████▊   | 92/135 [6:23:50<2:58:56, 249.68s/it]"
     ]
    },
    {
     "name": "stdout",
     "output_type": "stream",
     "text": [
      "{'n_estimators': 60, 'random_state': 100}\n",
      "3 0.7522865852723685 624640797.5735382 0.7512087550887331\n"
     ]
    },
    {
     "name": "stderr",
     "output_type": "stream",
     "text": [
      "\n",
      "100%|██████████| 455/455 [00:00<00:00, 9785.76it/s]\n",
      "\n",
      "100%|██████████| 910/910 [00:00<00:00, 227380.95it/s]\n",
      " 69%|██████▉   | 93/135 [6:28:11<2:57:10, 253.11s/it]"
     ]
    },
    {
     "name": "stdout",
     "output_type": "stream",
     "text": [
      "{'n_estimators': 90, 'random_state': 100}\n",
      "3 0.7320281554644643 1140655551.5436168 0.7315283252981776\n"
     ]
    },
    {
     "name": "stderr",
     "output_type": "stream",
     "text": [
      "\n",
      "100%|██████████| 455/455 [00:00<00:00, 10013.42it/s]\n",
      "\n",
      "100%|██████████| 910/910 [00:00<00:00, 233515.85it/s]\n",
      " 70%|██████▉   | 94/135 [6:33:04<3:01:16, 265.29s/it]"
     ]
    },
    {
     "name": "stdout",
     "output_type": "stream",
     "text": [
      "{'n_estimators': 60, 'random_state': 100}\n",
      "3 0.3316499108281842 731740909.0003052 0.32908965958862213\n"
     ]
    },
    {
     "name": "stderr",
     "output_type": "stream",
     "text": [
      "\n",
      "100%|██████████| 455/455 [00:00<00:00, 8660.88it/s]\n",
      "\n",
      "100%|██████████| 910/910 [00:00<00:00, 216815.31it/s]\n",
      " 70%|███████   | 95/135 [6:37:58<3:02:28, 273.71s/it]"
     ]
    },
    {
     "name": "stdout",
     "output_type": "stream",
     "text": [
      "{'n_estimators': 90, 'random_state': 100}\n",
      "3 0.5458892117532763 1740040524.2928555 0.5428191457463007\n"
     ]
    },
    {
     "name": "stderr",
     "output_type": "stream",
     "text": [
      "\n",
      "100%|██████████| 455/455 [00:00<00:00, 6494.23it/s]\n",
      "\n",
      "100%|██████████| 910/910 [00:00<00:00, 164645.70it/s]\n",
      " 71%|███████   | 96/135 [6:42:13<2:54:22, 268.26s/it]"
     ]
    },
    {
     "name": "stdout",
     "output_type": "stream",
     "text": [
      "{'n_estimators': 100, 'random_state': 100}\n",
      "3 0.6045707455488235 1247963839.2308614 0.6044551815300758\n"
     ]
    },
    {
     "name": "stderr",
     "output_type": "stream",
     "text": [
      "\n",
      "100%|██████████| 455/455 [00:00<00:00, 8815.80it/s]\n",
      "\n",
      "100%|██████████| 910/910 [00:00<00:00, 196459.58it/s]\n",
      " 72%|███████▏  | 97/135 [6:47:46<3:02:09, 287.62s/it]"
     ]
    },
    {
     "name": "stdout",
     "output_type": "stream",
     "text": [
      "{'n_estimators': 100, 'random_state': 100}\n",
      "3 0.5771680518128262 508581667.11293864 0.5729928692418635\n"
     ]
    },
    {
     "name": "stderr",
     "output_type": "stream",
     "text": [
      "\n",
      "100%|██████████| 455/455 [00:00<00:00, 8535.95it/s]\n",
      "\n",
      "100%|██████████| 910/910 [00:00<00:00, 191934.86it/s]\n",
      " 73%|███████▎  | 98/135 [6:52:12<2:53:23, 281.18s/it]"
     ]
    },
    {
     "name": "stdout",
     "output_type": "stream",
     "text": [
      "{'n_estimators': 30, 'random_state': 100}\n",
      "3 0.6516896241846886 1106695914.9383948 0.6484554150097077\n"
     ]
    },
    {
     "name": "stderr",
     "output_type": "stream",
     "text": [
      "\n",
      "100%|██████████| 455/455 [00:00<00:00, 8955.42it/s]\n",
      "\n",
      "100%|██████████| 910/910 [00:00<00:00, 177493.33it/s]\n",
      " 73%|███████▎  | 99/135 [6:56:37<2:45:39, 276.11s/it]"
     ]
    },
    {
     "name": "stdout",
     "output_type": "stream",
     "text": [
      "{'n_estimators': 30, 'random_state': 100}\n",
      "3 0.06480443619820075 52043542.54205924 0.05293531663504902\n"
     ]
    },
    {
     "name": "stderr",
     "output_type": "stream",
     "text": [
      "\n",
      "100%|██████████| 455/455 [00:00<00:00, 10171.45it/s]\n",
      "\n",
      "100%|██████████| 910/910 [00:00<00:00, 230902.40it/s]\n",
      " 74%|███████▍  | 100/135 [7:00:59<2:38:41, 272.04s/it]"
     ]
    },
    {
     "name": "stdout",
     "output_type": "stream",
     "text": [
      "{'n_estimators': 90, 'random_state': 100}\n",
      "3 0.6946512672478409 81836975.80695412 0.6946273025435751\n"
     ]
    },
    {
     "name": "stderr",
     "output_type": "stream",
     "text": [
      "\n",
      "100%|██████████| 455/455 [00:00<00:00, 8817.51it/s]\n",
      "\n",
      "100%|██████████| 910/910 [00:00<00:00, 195694.04it/s]\n",
      " 75%|███████▍  | 101/135 [7:04:46<2:26:28, 258.48s/it]"
     ]
    },
    {
     "name": "stdout",
     "output_type": "stream",
     "text": [
      "{'n_estimators': 40, 'random_state': 100}\n",
      "3 0.8056231439689147 141431955.4801875 0.8051011080060746\n"
     ]
    },
    {
     "name": "stderr",
     "output_type": "stream",
     "text": [
      "\n",
      "100%|██████████| 455/455 [00:00<00:00, 9705.88it/s]\n",
      "\n",
      "100%|██████████| 910/910 [00:00<00:00, 222710.74it/s]\n",
      " 76%|███████▌  | 102/135 [7:09:32<2:26:46, 266.88s/it]"
     ]
    },
    {
     "name": "stdout",
     "output_type": "stream",
     "text": [
      "{'n_estimators': 80, 'random_state': 100}\n",
      "3 0.6499115508867146 556588462.7402467 0.6440580632586486\n"
     ]
    },
    {
     "name": "stderr",
     "output_type": "stream",
     "text": [
      "\n",
      "100%|██████████| 455/455 [00:00<00:00, 9398.71it/s]\n",
      "\n",
      "100%|██████████| 910/910 [00:00<00:00, 217805.10it/s]\n",
      " 76%|███████▋  | 103/135 [7:12:54<2:11:50, 247.19s/it]"
     ]
    },
    {
     "name": "stdout",
     "output_type": "stream",
     "text": [
      "{'n_estimators': 90, 'random_state': 100}\n",
      "3 0.5049511872768147 37124441.86610525 0.4652472880348807\n"
     ]
    },
    {
     "name": "stderr",
     "output_type": "stream",
     "text": [
      "\n",
      "100%|██████████| 455/455 [00:00<00:00, 9485.70it/s]\n",
      "\n",
      "100%|██████████| 910/910 [00:00<00:00, 216618.42it/s]\n",
      " 77%|███████▋  | 104/135 [7:16:42<2:04:47, 241.52s/it]"
     ]
    },
    {
     "name": "stdout",
     "output_type": "stream",
     "text": [
      "{'n_estimators': 30, 'random_state': 100}\n",
      "3 0.7039262683754002 1608310675.5115902 0.701869561646004\n"
     ]
    },
    {
     "name": "stderr",
     "output_type": "stream",
     "text": [
      "\n",
      "100%|██████████| 455/455 [00:00<00:00, 9895.56it/s]\n",
      "\n",
      "100%|██████████| 910/910 [00:00<00:00, 227557.18it/s]\n",
      " 78%|███████▊  | 105/135 [7:20:46<2:01:07, 242.26s/it]"
     ]
    },
    {
     "name": "stdout",
     "output_type": "stream",
     "text": [
      "{'n_estimators': 100, 'random_state': 100}\n",
      "3 0.4657325613924519 2593809164.8824515 0.46569446558317795\n"
     ]
    },
    {
     "name": "stderr",
     "output_type": "stream",
     "text": [
      "\n",
      "100%|██████████| 455/455 [00:00<00:00, 9524.99it/s]\n",
      "\n",
      "100%|██████████| 910/910 [00:00<00:00, 217954.35it/s]\n",
      " 79%|███████▊  | 106/135 [7:24:32<1:54:41, 237.30s/it]"
     ]
    },
    {
     "name": "stdout",
     "output_type": "stream",
     "text": [
      "{'n_estimators': 40, 'random_state': 100}\n",
      "3 0.6665117266754665 678706644.6858985 0.6636335676125098\n"
     ]
    },
    {
     "name": "stderr",
     "output_type": "stream",
     "text": [
      "\n",
      "100%|██████████| 455/455 [00:00<00:00, 9511.46it/s]\n",
      "\n",
      "100%|██████████| 910/910 [00:00<00:00, 214814.08it/s]\n",
      " 79%|███████▉  | 107/135 [7:28:55<1:54:26, 245.23s/it]"
     ]
    },
    {
     "name": "stdout",
     "output_type": "stream",
     "text": [
      "{'n_estimators': 30, 'random_state': 100}\n",
      "3 0.6388290570604434 868156245.7774943 0.6372080899073201\n"
     ]
    },
    {
     "name": "stderr",
     "output_type": "stream",
     "text": [
      "\n",
      "100%|██████████| 455/455 [00:00<00:00, 9375.44it/s]\n",
      "\n",
      "100%|██████████| 910/910 [00:00<00:00, 209830.49it/s]\n",
      " 80%|████████  | 108/135 [7:32:36<1:46:58, 237.74s/it]"
     ]
    },
    {
     "name": "stdout",
     "output_type": "stream",
     "text": [
      "{'n_estimators': 40, 'random_state': 100}\n",
      "3 0.6872624803182774 221761602.65381852 0.6830788626363842\n"
     ]
    },
    {
     "name": "stderr",
     "output_type": "stream",
     "text": [
      "\n",
      "100%|██████████| 455/455 [00:00<00:00, 9540.99it/s]\n",
      "\n",
      "100%|██████████| 910/910 [00:00<00:00, 218478.34it/s]\n",
      " 81%|████████  | 109/135 [7:36:41<1:43:59, 239.99s/it]"
     ]
    },
    {
     "name": "stdout",
     "output_type": "stream",
     "text": [
      "{'n_estimators': 100, 'random_state': 100}\n",
      "3 0.5875153380040937 2650695176.201713 0.5872563966569013\n"
     ]
    },
    {
     "name": "stderr",
     "output_type": "stream",
     "text": [
      "\n",
      "100%|██████████| 455/455 [00:00<00:00, 10716.70it/s]\n",
      "\n",
      "100%|██████████| 910/910 [00:00<00:00, 250677.57it/s]\n",
      " 81%|████████▏ | 110/135 [7:40:52<1:41:25, 243.42s/it]"
     ]
    },
    {
     "name": "stdout",
     "output_type": "stream",
     "text": [
      "{'n_estimators': 50, 'random_state': 100}\n",
      "3 0.7348980667316564 706719481.4770774 0.7346762705505845\n"
     ]
    },
    {
     "name": "stderr",
     "output_type": "stream",
     "text": [
      "\n",
      "100%|██████████| 455/455 [00:00<00:00, 10438.61it/s]\n",
      "\n",
      "100%|██████████| 910/910 [00:00<00:00, 237896.82it/s]\n",
      " 82%|████████▏ | 111/135 [7:44:18<1:32:51, 232.16s/it]"
     ]
    },
    {
     "name": "stdout",
     "output_type": "stream",
     "text": [
      "{'n_estimators': 50, 'random_state': 100}\n",
      "3 0.7511137002620292 310259395.91109246 0.7502634386888178\n"
     ]
    },
    {
     "name": "stderr",
     "output_type": "stream",
     "text": [
      "\n",
      "100%|██████████| 455/455 [00:00<00:00, 10186.05it/s]\n",
      "\n",
      "100%|██████████| 910/910 [00:00<00:00, 233687.42it/s]\n",
      " 83%|████████▎ | 112/135 [7:48:34<1:31:39, 239.12s/it]"
     ]
    },
    {
     "name": "stdout",
     "output_type": "stream",
     "text": [
      "{'n_estimators': 100, 'random_state': 100}\n",
      "3 0.5710641792528677 308162447.350676 0.5637839968503543\n"
     ]
    },
    {
     "name": "stderr",
     "output_type": "stream",
     "text": [
      "\n",
      "100%|██████████| 455/455 [00:00<00:00, 9660.28it/s]\n",
      "\n",
      "100%|██████████| 910/910 [00:00<00:00, 225740.28it/s]\n",
      " 84%|████████▎ | 113/135 [7:52:35<1:27:53, 239.72s/it]"
     ]
    },
    {
     "name": "stdout",
     "output_type": "stream",
     "text": [
      "{'n_estimators': 80, 'random_state': 100}\n",
      "3 0.6054475503055581 1365971859.1379924 0.6044492405708459\n"
     ]
    },
    {
     "name": "stderr",
     "output_type": "stream",
     "text": [
      "\n",
      "100%|██████████| 455/455 [00:00<00:00, 9422.05it/s]\n",
      "\n",
      "100%|██████████| 910/910 [00:00<00:00, 214789.91it/s]\n",
      " 84%|████████▍ | 114/135 [7:56:33<1:23:47, 239.41s/it]"
     ]
    },
    {
     "name": "stdout",
     "output_type": "stream",
     "text": [
      "{'n_estimators': 80, 'random_state': 100}\n",
      "3 0.5379394178705919 21341237.411431067 0.5358169161141115\n"
     ]
    },
    {
     "name": "stderr",
     "output_type": "stream",
     "text": [
      "\n",
      "100%|██████████| 455/455 [00:00<00:00, 9596.31it/s]\n",
      "\n",
      "100%|██████████| 910/910 [00:00<00:00, 214055.11it/s]\n",
      " 85%|████████▌ | 115/135 [8:00:39<1:20:26, 241.34s/it]"
     ]
    },
    {
     "name": "stdout",
     "output_type": "stream",
     "text": [
      "{'n_estimators': 100, 'random_state': 100}\n",
      "3 0.7771088340340244 152376935.30910984 0.776975088420799\n"
     ]
    },
    {
     "name": "stderr",
     "output_type": "stream",
     "text": [
      "\n",
      "100%|██████████| 455/455 [00:00<00:00, 9896.48it/s]\n",
      "\n",
      "100%|██████████| 910/910 [00:00<00:00, 236306.13it/s]\n",
      " 86%|████████▌ | 116/135 [8:04:46<1:16:59, 243.12s/it]"
     ]
    },
    {
     "name": "stdout",
     "output_type": "stream",
     "text": [
      "{'n_estimators': 90, 'random_state': 100}\n",
      "3 0.6292001204139486 1141956043.5453494 0.6291897561528496\n"
     ]
    },
    {
     "name": "stderr",
     "output_type": "stream",
     "text": [
      "\n",
      "100%|██████████| 455/455 [00:00<00:00, 8940.31it/s]\n",
      "\n",
      "100%|██████████| 910/910 [00:00<00:00, 223427.77it/s]\n",
      " 87%|████████▋ | 117/135 [8:08:34<1:11:31, 238.42s/it]"
     ]
    },
    {
     "name": "stdout",
     "output_type": "stream",
     "text": [
      "{'n_estimators': 100, 'random_state': 100}\n",
      "3 0.7121043082752805 507924047.6175843 0.7058023440216712\n"
     ]
    },
    {
     "name": "stderr",
     "output_type": "stream",
     "text": [
      "\n",
      "100%|██████████| 455/455 [00:00<00:00, 9857.89it/s]\n",
      "\n",
      "100%|██████████| 910/910 [00:00<00:00, 233458.72it/s]\n",
      " 87%|████████▋ | 118/135 [8:12:35<1:07:48, 239.32s/it]"
     ]
    },
    {
     "name": "stdout",
     "output_type": "stream",
     "text": [
      "{'n_estimators': 90, 'random_state': 100}\n",
      "3 0.4906207036002229 200164288.12109372 0.48827134037821274\n"
     ]
    },
    {
     "name": "stderr",
     "output_type": "stream",
     "text": [
      "\n",
      "100%|██████████| 455/455 [00:00<00:00, 10152.40it/s]\n",
      "\n",
      "100%|██████████| 910/910 [00:00<00:00, 232491.72it/s]\n",
      " 88%|████████▊ | 119/135 [8:16:50<1:05:04, 244.05s/it]"
     ]
    },
    {
     "name": "stdout",
     "output_type": "stream",
     "text": [
      "{'n_estimators': 90, 'random_state': 100}\n",
      "3 0.6362782549055052 1343389435.638981 0.6359899320052418\n"
     ]
    },
    {
     "name": "stderr",
     "output_type": "stream",
     "text": [
      "\n",
      "100%|██████████| 455/455 [00:00<00:00, 9513.83it/s]\n",
      "\n",
      "100%|██████████| 910/910 [00:00<00:00, 215688.10it/s]\n",
      " 89%|████████▉ | 120/135 [8:20:19<58:19, 233.28s/it]  "
     ]
    },
    {
     "name": "stdout",
     "output_type": "stream",
     "text": [
      "{'n_estimators': 40, 'random_state': 100}\n",
      "3 0.6690051063177288 943768117.9699717 0.6664869671097585\n"
     ]
    },
    {
     "name": "stderr",
     "output_type": "stream",
     "text": [
      "\n",
      "100%|██████████| 455/455 [00:00<00:00, 9545.19it/s]\n",
      "\n",
      "100%|██████████| 910/910 [00:00<00:00, 225633.52it/s]\n",
      " 90%|████████▉ | 121/135 [8:24:01<53:39, 229.99s/it]"
     ]
    },
    {
     "name": "stdout",
     "output_type": "stream",
     "text": [
      "{'n_estimators': 100, 'random_state': 100}\n",
      "3 0.7340772780483906 496977087.27829295 0.7318367400691328\n"
     ]
    },
    {
     "name": "stderr",
     "output_type": "stream",
     "text": [
      "\n",
      "100%|██████████| 455/455 [00:00<00:00, 9772.53it/s]\n",
      "\n",
      "100%|██████████| 910/910 [00:00<00:00, 219067.71it/s]\n",
      " 90%|█████████ | 122/135 [8:27:31<48:31, 223.99s/it]"
     ]
    },
    {
     "name": "stdout",
     "output_type": "stream",
     "text": [
      "{'n_estimators': 80, 'random_state': 100}\n",
      "3 0.4560108039613915 26865981.555711504 0.4449401877786001\n"
     ]
    },
    {
     "name": "stderr",
     "output_type": "stream",
     "text": [
      "\n",
      "100%|██████████| 455/455 [00:00<00:00, 9451.96it/s]\n",
      "\n",
      "100%|██████████| 910/910 [00:00<00:00, 219913.38it/s]\n",
      " 91%|█████████ | 123/135 [8:30:58<43:46, 218.86s/it]"
     ]
    },
    {
     "name": "stdout",
     "output_type": "stream",
     "text": [
      "{'n_estimators': 40, 'random_state': 100}\n",
      "3 0.6630593483017273 1389133082.9204047 0.6630590110806074\n"
     ]
    },
    {
     "name": "stderr",
     "output_type": "stream",
     "text": [
      "\n",
      "100%|██████████| 455/455 [00:00<00:00, 10492.10it/s]\n",
      "\n",
      "100%|██████████| 910/910 [00:00<00:00, 238864.55it/s]\n",
      " 92%|█████████▏| 124/135 [8:34:59<41:22, 225.68s/it]"
     ]
    },
    {
     "name": "stdout",
     "output_type": "stream",
     "text": [
      "{'n_estimators': 90, 'random_state': 100}\n",
      "3 0.5299416901948207 227366150.76258755 0.5299338196625966\n"
     ]
    },
    {
     "name": "stderr",
     "output_type": "stream",
     "text": [
      "\n",
      "100%|██████████| 455/455 [00:00<00:00, 10315.83it/s]\n",
      "\n",
      "100%|██████████| 910/910 [00:00<00:00, 243574.77it/s]\n",
      " 93%|█████████▎| 125/135 [8:38:52<37:57, 227.77s/it]"
     ]
    },
    {
     "name": "stdout",
     "output_type": "stream",
     "text": [
      "{'n_estimators': 90, 'random_state': 100}\n",
      "3 0.5009533135016184 278263452.9349765 0.5008641177532758\n"
     ]
    },
    {
     "name": "stderr",
     "output_type": "stream",
     "text": [
      "\n",
      "100%|██████████| 455/455 [00:00<00:00, 9460.68it/s]\n",
      "\n",
      "100%|██████████| 910/910 [00:00<00:00, 223755.23it/s]\n",
      " 93%|█████████▎| 126/135 [8:43:17<35:49, 238.85s/it]"
     ]
    },
    {
     "name": "stdout",
     "output_type": "stream",
     "text": [
      "{'n_estimators': 30, 'random_state': 100}\n",
      "3 0.7912328574738318 406260594.25251776 0.788151811844164\n"
     ]
    },
    {
     "name": "stderr",
     "output_type": "stream",
     "text": [
      "\n",
      "100%|██████████| 455/455 [00:00<00:00, 10079.96it/s]\n",
      "\n",
      "100%|██████████| 910/910 [00:00<00:00, 231140.11it/s]\n",
      " 94%|█████████▍| 127/135 [8:47:39<32:47, 245.89s/it]"
     ]
    },
    {
     "name": "stdout",
     "output_type": "stream",
     "text": [
      "{'n_estimators': 100, 'random_state': 100}\n",
      "3 0.7233607037524838 539498079.8791193 0.7213876490166411\n"
     ]
    },
    {
     "name": "stderr",
     "output_type": "stream",
     "text": [
      "\n",
      "100%|██████████| 455/455 [00:00<00:00, 9855.50it/s]\n",
      "\n",
      "100%|██████████| 910/910 [00:00<00:00, 224677.22it/s]\n",
      " 95%|█████████▍| 128/135 [8:52:06<29:24, 252.14s/it]"
     ]
    },
    {
     "name": "stdout",
     "output_type": "stream",
     "text": [
      "{'n_estimators': 100, 'random_state': 100}\n",
      "3 0.7257794229724492 713749206.9586314 0.7097339142984691\n"
     ]
    },
    {
     "name": "stderr",
     "output_type": "stream",
     "text": [
      "\n",
      "100%|██████████| 455/455 [00:00<00:00, 9842.28it/s]\n",
      "\n",
      "100%|██████████| 910/910 [00:00<00:00, 234765.45it/s]\n",
      " 96%|█████████▌| 129/135 [8:56:15<25:08, 251.37s/it]"
     ]
    },
    {
     "name": "stdout",
     "output_type": "stream",
     "text": [
      "{'n_estimators': 80, 'random_state': 100}\n",
      "3 0.44718887880056557 1004587486.870327 0.4024466216214526\n"
     ]
    },
    {
     "name": "stderr",
     "output_type": "stream",
     "text": [
      "\n",
      "100%|██████████| 455/455 [00:00<00:00, 9898.38it/s]\n",
      "\n",
      "100%|██████████| 910/910 [00:00<00:00, 231084.13it/s]\n",
      " 96%|█████████▋| 130/135 [9:00:30<21:01, 252.24s/it]"
     ]
    },
    {
     "name": "stdout",
     "output_type": "stream",
     "text": [
      "{'n_estimators': 60, 'random_state': 100}\n",
      "3 0.6553652251030534 302211702.14842284 0.6553523683611914\n"
     ]
    },
    {
     "name": "stderr",
     "output_type": "stream",
     "text": [
      "\n",
      "100%|██████████| 455/455 [00:00<00:00, 10238.96it/s]\n",
      "\n",
      "100%|██████████| 910/910 [00:00<00:00, 237349.46it/s]\n",
      " 97%|█████████▋| 131/135 [9:04:38<16:44, 251.16s/it]"
     ]
    },
    {
     "name": "stdout",
     "output_type": "stream",
     "text": [
      "{'n_estimators': 70, 'random_state': 100}\n",
      "3 0.7372031026701302 746031040.3603302 0.7357189843473324\n"
     ]
    },
    {
     "name": "stderr",
     "output_type": "stream",
     "text": [
      "\n",
      "100%|██████████| 455/455 [00:00<00:00, 10273.63it/s]\n",
      "\n",
      "100%|██████████| 910/910 [00:00<00:00, 242784.60it/s]\n",
      " 98%|█████████▊| 132/135 [9:08:37<12:22, 247.58s/it]"
     ]
    },
    {
     "name": "stdout",
     "output_type": "stream",
     "text": [
      "{'n_estimators': 50, 'random_state': 100}\n",
      "3 0.5621543498859823 1019970250.9250121 0.5599977646722537\n"
     ]
    },
    {
     "name": "stderr",
     "output_type": "stream",
     "text": [
      "\n",
      "100%|██████████| 455/455 [00:00<00:00, 9871.76it/s]\n",
      "\n",
      "100%|██████████| 910/910 [00:00<00:00, 229334.65it/s]\n",
      " 99%|█████████▊| 133/135 [9:12:11<07:54, 237.49s/it]"
     ]
    },
    {
     "name": "stdout",
     "output_type": "stream",
     "text": [
      "{'n_estimators': 60, 'random_state': 100}\n",
      "3 0.7023514892204497 13885010.360104797 0.6959608295697965\n"
     ]
    },
    {
     "name": "stderr",
     "output_type": "stream",
     "text": [
      "\n",
      "100%|██████████| 455/455 [00:00<00:00, 9457.73it/s]\n",
      "\n",
      "100%|██████████| 910/910 [00:00<00:00, 221573.01it/s]\n",
      " 99%|█████████▉| 134/135 [9:16:09<03:57, 237.48s/it]"
     ]
    },
    {
     "name": "stdout",
     "output_type": "stream",
     "text": [
      "{'n_estimators': 30, 'random_state': 100}\n",
      "3 0.6519757146669427 1459550690.2684023 0.6517811272805608\n"
     ]
    },
    {
     "name": "stderr",
     "output_type": "stream",
     "text": [
      "\n",
      "100%|██████████| 455/455 [00:00<00:00, 10382.45it/s]\n",
      "\n",
      "100%|██████████| 910/910 [00:00<00:00, 246691.87it/s]\n",
      "100%|██████████| 135/135 [9:19:20<00:00, 248.60s/it]"
     ]
    },
    {
     "name": "stdout",
     "output_type": "stream",
     "text": [
      "{'n_estimators': 90, 'random_state': 100}\n",
      "3 0.5021260299677048 24419293.479087643 0.4947821871868576\n"
     ]
    },
    {
     "name": "stderr",
     "output_type": "stream",
     "text": [
      "\n"
     ]
    }
   ],
   "source": [
    "coef = 0.5\n",
    "order_lags = 3\n",
    "#result = pd.DataFrame(columns=('radar', 'mse', 'r2', 'explained_variance', 'n_estimators'))\n",
    "result = pd.read_csv('../dataset/result_mean_estimator1.csv')\n",
    "for radar in tqdm(radars):\n",
    "    df_forecasting = pd.read_csv('../dataset/regressor_mean1/regressor_mean%i_%s.csv'%(order_lags, radar))\n",
    "    pred, par = hyperparameter_tuning(df_forecasting, coef, radar, range(30, 151, 10))\n",
    "    pred = drop_altitude(pred)\n",
    "    true = drop_altitude(df_forecasting['linear_eta'].values)\n",
    "    test_y = true[(len(true)-len(pred)):]\n",
    "    train_y = true[:(len(true)-len(pred))]\n",
    "    #rfm.line_plot1(ts_1 = test_y, ts_label_1 = rfm.radar, ts_2 = pred_y, ts_label_2 = '%s - Forecasting'%rfm.radar, title = '%s forecasting (testing data)'%rfm.radar, m = 'weather_lags5')\n",
    "    #rfm.line_plot2(ts_1 = test_y, ts_label_1 = '%s observed'%rfm.radar, ts_2 = pred_y, ts_label_2 = '%s - Forecasting'%rfm.radar, ts_3 = train_y, ts_label_3 = '%s training'%rfm.radar, title = '%s forecasting(training + testing)'%rfm.radar, m = 'weather_lags%i'%j)\n",
    "    var = explained_variance_score(test_y, pred)\n",
    "    mse = mean_squared_error(test_y, pred)\n",
    "    r2 = r2_score(test_y, pred)\n",
    "    print(order_lags, var, mse, r2)\n",
    "    result = result.append(pd.DataFrame({'radar':[radar],\n",
    "                                         'mse':[np.round(mse, 3)],\n",
    "                                         'r2':[np.round(r2, 3)],\n",
    "                                         'explained_variance':[np.round(var, 3)],\n",
    "                                         'n_estimators':[par['n_estimators']]}),\n",
    "                           ignore_index = True)\n",
    "    result.to_csv('../dataset/result_mean_estimator1.csv', index = False)\n",
    "    pd.DataFrame(pred).to_csv('../dataset/pred_mean1/pred_mean_%i_opt_%s.csv'%(order_lags, radar), index = False)"
   ]
  },
  {
   "cell_type": "markdown",
   "id": "0949730b",
   "metadata": {},
   "source": [
    "## max_depth"
   ]
  },
  {
   "cell_type": "code",
   "execution_count": 37,
   "id": "96618ace",
   "metadata": {},
   "outputs": [
    {
     "name": "stderr",
     "output_type": "stream",
     "text": [
      "  0%|          | 0/135 [00:00<?, ?it/s]\n",
      "100%|██████████| 455/455 [00:00<00:00, 8478.20it/s]\n",
      "\n",
      "100%|██████████| 910/910 [00:00<00:00, 208946.00it/s]\n",
      "  1%|          | 1/135 [01:32<3:25:43, 92.12s/it]"
     ]
    },
    {
     "name": "stdout",
     "output_type": "stream",
     "text": [
      "{'max_depth': 16, 'n_estimators': 30, 'random_state': 100}\n",
      "3 0.4175722166484016 448413888.18076956 0.41478743459997824\n"
     ]
    },
    {
     "name": "stderr",
     "output_type": "stream",
     "text": [
      "\n",
      "100%|██████████| 455/455 [00:00<00:00, 8933.12it/s]\n",
      "\n",
      "100%|██████████| 910/910 [00:00<00:00, 156491.05it/s]\n",
      "  1%|▏         | 2/135 [04:01<4:39:06, 125.92s/it]"
     ]
    },
    {
     "name": "stdout",
     "output_type": "stream",
     "text": [
      "{'max_depth': 14, 'n_estimators': 50, 'random_state': 100}\n",
      "3 0.5499453111603367 126004199.80140908 0.5498013487943345\n"
     ]
    },
    {
     "name": "stderr",
     "output_type": "stream",
     "text": [
      "\n",
      "100%|██████████| 455/455 [00:00<00:00, 9085.63it/s]\n",
      "\n",
      "100%|██████████| 910/910 [00:00<00:00, 173799.77it/s]\n",
      "  2%|▏         | 3/135 [08:19<6:49:32, 186.15s/it]"
     ]
    },
    {
     "name": "stdout",
     "output_type": "stream",
     "text": [
      "{'max_depth': 13, 'n_estimators': 90, 'random_state': 100}\n",
      "3 0.5763651394415605 1364763806.5480895 0.5762590255284967\n"
     ]
    },
    {
     "name": "stderr",
     "output_type": "stream",
     "text": [
      "\n",
      "100%|██████████| 455/455 [00:00<00:00, 6362.76it/s]\n",
      "\n",
      "100%|██████████| 910/910 [00:00<00:00, 210408.86it/s]\n",
      "  3%|▎         | 4/135 [13:07<8:13:58, 226.24s/it]"
     ]
    },
    {
     "name": "stdout",
     "output_type": "stream",
     "text": [
      "{'max_depth': 17, 'n_estimators': 100, 'random_state': 100}\n",
      "3 0.4686098963285509 246371418.65820473 0.4617577947505972\n"
     ]
    },
    {
     "name": "stderr",
     "output_type": "stream",
     "text": [
      "\n",
      "100%|██████████| 455/455 [00:00<00:00, 8742.78it/s]\n",
      "\n",
      "100%|██████████| 910/910 [00:00<00:00, 175059.24it/s]\n",
      "  4%|▎         | 5/135 [15:44<7:16:36, 201.51s/it]"
     ]
    },
    {
     "name": "stdout",
     "output_type": "stream",
     "text": [
      "{'max_depth': 15, 'n_estimators': 50, 'random_state': 100}\n",
      "3 -0.8116232545827993 507542771.3587444 -0.8142587187340176\n"
     ]
    },
    {
     "name": "stderr",
     "output_type": "stream",
     "text": [
      "\n",
      "100%|██████████| 455/455 [00:00<00:00, 7731.89it/s]\n",
      "\n",
      "100%|██████████| 910/910 [00:00<00:00, 158947.93it/s]\n",
      "  4%|▍         | 6/135 [17:38<6:08:51, 171.56s/it]"
     ]
    },
    {
     "name": "stdout",
     "output_type": "stream",
     "text": [
      "{'max_depth': 10, 'n_estimators': 40, 'random_state': 100}\n",
      "3 0.5789402408122062 794651297.6764365 0.5778395410199075\n"
     ]
    },
    {
     "name": "stderr",
     "output_type": "stream",
     "text": [
      "\n",
      "100%|██████████| 455/455 [00:00<00:00, 8899.58it/s]\n",
      "\n",
      "100%|██████████| 910/910 [00:00<00:00, 202946.60it/s]\n",
      "  5%|▌         | 7/135 [22:15<7:19:26, 205.99s/it]"
     ]
    },
    {
     "name": "stdout",
     "output_type": "stream",
     "text": [
      "{'max_depth': 16, 'n_estimators': 100, 'random_state': 100}\n",
      "3 0.6417601501917198 1715361839.60104 0.6416139350442702\n"
     ]
    },
    {
     "name": "stderr",
     "output_type": "stream",
     "text": [
      "\n",
      "100%|██████████| 455/455 [00:00<00:00, 8326.64it/s]\n",
      "\n",
      "100%|██████████| 910/910 [00:00<00:00, 195483.57it/s]\n",
      "  6%|▌         | 8/135 [26:29<7:48:26, 221.31s/it]"
     ]
    },
    {
     "name": "stdout",
     "output_type": "stream",
     "text": [
      "{'max_depth': 10, 'n_estimators': 90, 'random_state': 100}\n",
      "3 0.6348179123432001 520260532.856506 0.6327213242518996\n"
     ]
    },
    {
     "name": "stderr",
     "output_type": "stream",
     "text": [
      "\n",
      "100%|██████████| 455/455 [00:00<00:00, 7254.95it/s]\n",
      "\n",
      "100%|██████████| 910/910 [00:00<00:00, 172550.48it/s]\n",
      "  7%|▋         | 9/135 [30:47<8:09:17, 233.00s/it]"
     ]
    },
    {
     "name": "stdout",
     "output_type": "stream",
     "text": [
      "{'max_depth': 15, 'n_estimators': 90, 'random_state': 100}\n",
      "3 0.7502103329639168 550809971.0612772 0.7492549593846352\n"
     ]
    },
    {
     "name": "stderr",
     "output_type": "stream",
     "text": [
      "\n",
      "100%|██████████| 455/455 [00:00<00:00, 8369.37it/s]\n",
      "\n",
      "100%|██████████| 910/910 [00:00<00:00, 142058.09it/s]\n",
      "  7%|▋         | 10/135 [34:39<8:04:17, 232.46s/it]"
     ]
    },
    {
     "name": "stdout",
     "output_type": "stream",
     "text": [
      "{'max_depth': 18, 'n_estimators': 80, 'random_state': 100}\n",
      "3 0.6590470639304807 517989957.4454625 0.650132441185238\n"
     ]
    },
    {
     "name": "stderr",
     "output_type": "stream",
     "text": [
      "\n",
      "100%|██████████| 455/455 [00:00<00:00, 9173.01it/s]\n",
      "\n",
      "100%|██████████| 910/910 [00:00<00:00, 181381.77it/s]\n",
      "  8%|▊         | 11/135 [39:17<8:29:15, 246.42s/it]"
     ]
    },
    {
     "name": "stdout",
     "output_type": "stream",
     "text": [
      "{'max_depth': 17, 'n_estimators': 100, 'random_state': 100}\n",
      "3 0.746179656868608 207524932.82043934 0.7437504625757749\n"
     ]
    },
    {
     "name": "stderr",
     "output_type": "stream",
     "text": [
      "\n",
      "100%|██████████| 455/455 [00:00<00:00, 8571.34it/s]\n",
      "\n",
      "100%|██████████| 910/910 [00:00<00:00, 200663.30it/s]\n",
      "  9%|▉         | 12/135 [44:00<8:47:52, 257.50s/it]"
     ]
    },
    {
     "name": "stdout",
     "output_type": "stream",
     "text": [
      "{'max_depth': 10, 'n_estimators': 100, 'random_state': 100}\n",
      "3 0.6550978932143523 342786222.70757216 0.6518251579161807\n"
     ]
    },
    {
     "name": "stderr",
     "output_type": "stream",
     "text": [
      "\n",
      "100%|██████████| 455/455 [00:00<00:00, 8888.06it/s]\n",
      "\n",
      "100%|██████████| 910/910 [00:00<00:00, 189035.54it/s]\n",
      " 10%|▉         | 13/135 [48:12<8:40:30, 255.99s/it]"
     ]
    },
    {
     "name": "stdout",
     "output_type": "stream",
     "text": [
      "{'max_depth': 13, 'n_estimators': 90, 'random_state': 100}\n",
      "3 0.16346906233257263 644012059.9332173 0.1586474556929337\n"
     ]
    },
    {
     "name": "stderr",
     "output_type": "stream",
     "text": [
      "\n",
      "100%|██████████| 455/455 [00:00<00:00, 8832.85it/s]\n",
      "\n",
      "100%|██████████| 910/910 [00:00<00:00, 215541.94it/s]\n",
      " 10%|█         | 14/135 [51:50<8:12:43, 244.32s/it]"
     ]
    },
    {
     "name": "stdout",
     "output_type": "stream",
     "text": [
      "{'max_depth': 12, 'n_estimators': 80, 'random_state': 100}\n",
      "3 0.5974906048602542 1393261098.1224926 0.5973733892474322\n"
     ]
    },
    {
     "name": "stderr",
     "output_type": "stream",
     "text": [
      "\n",
      "100%|██████████| 455/455 [00:00<00:00, 9951.86it/s]\n",
      "\n",
      "100%|██████████| 910/910 [00:00<00:00, 192632.31it/s]\n",
      " 11%|█         | 15/135 [56:04<8:14:57, 247.48s/it]"
     ]
    },
    {
     "name": "stdout",
     "output_type": "stream",
     "text": [
      "{'max_depth': 16, 'n_estimators': 90, 'random_state': 100}\n",
      "3 0.49682678041315065 904007640.0821208 0.4938422720793141\n"
     ]
    },
    {
     "name": "stderr",
     "output_type": "stream",
     "text": [
      "\n",
      "100%|██████████| 455/455 [00:00<00:00, 8964.08it/s]\n",
      "\n",
      "100%|██████████| 910/910 [00:00<00:00, 207616.22it/s]\n",
      " 12%|█▏        | 16/135 [57:36<6:38:01, 200.68s/it]"
     ]
    },
    {
     "name": "stdout",
     "output_type": "stream",
     "text": [
      "{'max_depth': 17, 'n_estimators': 30, 'random_state': 100}\n",
      "3 0.6572504509692902 491829222.2282154 0.6549203542658657\n"
     ]
    },
    {
     "name": "stderr",
     "output_type": "stream",
     "text": [
      "\n",
      "100%|██████████| 455/455 [00:00<00:00, 9429.08it/s]\n",
      "\n",
      "100%|██████████| 910/910 [00:00<00:00, 209381.57it/s]\n",
      " 13%|█▎        | 17/135 [1:02:14<7:20:27, 223.96s/it]"
     ]
    },
    {
     "name": "stdout",
     "output_type": "stream",
     "text": [
      "{'max_depth': 12, 'n_estimators': 100, 'random_state': 100}\n",
      "3 0.6029386490993545 902716648.2310654 0.6020004707294474\n"
     ]
    },
    {
     "name": "stderr",
     "output_type": "stream",
     "text": [
      "\n",
      "100%|██████████| 455/455 [00:00<00:00, 9251.50it/s]\n",
      "\n",
      "100%|██████████| 910/910 [00:00<00:00, 237113.54it/s]\n",
      " 13%|█▎        | 18/135 [1:04:47<6:34:53, 202.51s/it]"
     ]
    },
    {
     "name": "stdout",
     "output_type": "stream",
     "text": [
      "{'max_depth': 16, 'n_estimators': 50, 'random_state': 100}\n",
      "3 -0.16232605459073635 81926635.3615543 -0.16388031817891546\n"
     ]
    },
    {
     "name": "stderr",
     "output_type": "stream",
     "text": [
      "\n",
      "100%|██████████| 455/455 [00:00<00:00, 9139.62it/s]\n",
      "\n",
      "100%|██████████| 910/910 [00:00<00:00, 237541.49it/s]\n",
      " 14%|█▍        | 19/135 [1:09:40<7:24:14, 229.78s/it]"
     ]
    },
    {
     "name": "stdout",
     "output_type": "stream",
     "text": [
      "{'max_depth': 17, 'n_estimators': 100, 'random_state': 100}\n",
      "3 0.797198869835737 687471230.7641158 0.7914015816533884\n"
     ]
    },
    {
     "name": "stderr",
     "output_type": "stream",
     "text": [
      "\n",
      "100%|██████████| 455/455 [00:00<00:00, 8558.12it/s]\n",
      "\n",
      "100%|██████████| 910/910 [00:00<00:00, 193943.93it/s]\n",
      " 15%|█▍        | 20/135 [1:14:19<7:48:24, 244.39s/it]"
     ]
    },
    {
     "name": "stdout",
     "output_type": "stream",
     "text": [
      "{'max_depth': 19, 'n_estimators': 100, 'random_state': 100}\n",
      "3 0.34666874197217157 1926707814.241249 0.344233052213194\n"
     ]
    },
    {
     "name": "stderr",
     "output_type": "stream",
     "text": [
      "\n",
      "100%|██████████| 455/455 [00:00<00:00, 9141.33it/s]\n",
      "\n",
      "100%|██████████| 910/910 [00:00<00:00, 218166.14it/s]\n",
      " 16%|█▌        | 21/135 [1:17:15<7:05:21, 223.87s/it]"
     ]
    },
    {
     "name": "stdout",
     "output_type": "stream",
     "text": [
      "{'max_depth': 17, 'n_estimators': 60, 'random_state': 100}\n",
      "3 0.6627140530700627 129942922.00099145 0.6608032219387125\n"
     ]
    },
    {
     "name": "stderr",
     "output_type": "stream",
     "text": [
      "\n",
      "100%|██████████| 455/455 [00:00<00:00, 9164.16it/s]\n",
      "\n",
      "100%|██████████| 910/910 [00:00<00:00, 228935.74it/s]\n",
      " 16%|█▋        | 22/135 [1:18:43<5:45:05, 183.23s/it]"
     ]
    },
    {
     "name": "stdout",
     "output_type": "stream",
     "text": [
      "{'max_depth': 18, 'n_estimators': 30, 'random_state': 100}\n",
      "3 0.7030415905398276 642082598.636469 0.6841893055255703\n"
     ]
    },
    {
     "name": "stderr",
     "output_type": "stream",
     "text": [
      "\n",
      "100%|██████████| 455/455 [00:00<00:00, 9150.32it/s]\n",
      "\n",
      "100%|██████████| 910/910 [00:00<00:00, 223532.45it/s]\n",
      " 17%|█▋        | 23/135 [1:20:12<4:49:00, 154.83s/it]"
     ]
    },
    {
     "name": "stdout",
     "output_type": "stream",
     "text": [
      "{'max_depth': 16, 'n_estimators': 30, 'random_state': 100}\n",
      "3 0.7330354653515702 947395729.2665087 0.7329610909348683\n"
     ]
    },
    {
     "name": "stderr",
     "output_type": "stream",
     "text": [
      "\n",
      "100%|██████████| 455/455 [00:00<00:00, 8690.46it/s]\n",
      "\n",
      "100%|██████████| 910/910 [00:00<00:00, 218954.60it/s]\n",
      " 18%|█▊        | 24/135 [1:23:12<5:00:15, 162.30s/it]"
     ]
    },
    {
     "name": "stdout",
     "output_type": "stream",
     "text": [
      "{'max_depth': 12, 'n_estimators': 60, 'random_state': 100}\n",
      "3 0.7813729487521602 561572304.7895621 0.7775509858099994\n"
     ]
    },
    {
     "name": "stderr",
     "output_type": "stream",
     "text": [
      "\n",
      "100%|██████████| 455/455 [00:00<00:00, 8666.86it/s]\n",
      "\n",
      "100%|██████████| 910/910 [00:00<00:00, 198173.24it/s]\n",
      " 19%|█▊        | 25/135 [1:26:10<5:06:31, 167.20s/it]"
     ]
    },
    {
     "name": "stdout",
     "output_type": "stream",
     "text": [
      "{'max_depth': 17, 'n_estimators': 60, 'random_state': 100}\n",
      "3 0.3647991542922506 890138151.7215661 0.35429515957724633\n"
     ]
    },
    {
     "name": "stderr",
     "output_type": "stream",
     "text": [
      "\n",
      "100%|██████████| 455/455 [00:00<00:00, 9328.56it/s]\n",
      "\n",
      "100%|██████████| 910/910 [00:00<00:00, 153742.71it/s]\n",
      " 19%|█▉        | 26/135 [1:27:38<4:20:40, 143.49s/it]"
     ]
    },
    {
     "name": "stdout",
     "output_type": "stream",
     "text": [
      "{'max_depth': 17, 'n_estimators': 30, 'random_state': 100}\n",
      "3 0.5859467928479511 810894636.073796 0.5851364603879183\n"
     ]
    },
    {
     "name": "stderr",
     "output_type": "stream",
     "text": [
      "\n",
      "100%|██████████| 455/455 [00:00<00:00, 8958.65it/s]\n",
      "\n",
      "100%|██████████| 910/910 [00:00<00:00, 223310.12it/s]\n",
      " 20%|██        | 27/135 [1:32:15<5:30:26, 183.58s/it]"
     ]
    },
    {
     "name": "stdout",
     "output_type": "stream",
     "text": [
      "{'max_depth': 15, 'n_estimators': 100, 'random_state': 100}\n",
      "3 0.6738026786050181 195528707.19143495 0.6642839044075151\n"
     ]
    },
    {
     "name": "stderr",
     "output_type": "stream",
     "text": [
      "\n",
      "100%|██████████| 455/455 [00:00<00:00, 8991.24it/s]\n",
      "\n",
      "100%|██████████| 910/910 [00:00<00:00, 227380.95it/s]\n",
      " 21%|██        | 28/135 [1:36:46<6:13:52, 209.65s/it]"
     ]
    },
    {
     "name": "stdout",
     "output_type": "stream",
     "text": [
      "{'max_depth': 17, 'n_estimators': 100, 'random_state': 100}\n",
      "3 0.8200290909039151 314284598.94914114 0.8196451360875998\n"
     ]
    },
    {
     "name": "stderr",
     "output_type": "stream",
     "text": [
      "\n",
      "100%|██████████| 455/455 [00:00<00:00, 8682.56it/s]\n",
      "\n",
      "100%|██████████| 910/910 [00:00<00:00, 178748.50it/s]\n",
      " 21%|██▏       | 29/135 [1:40:04<6:04:06, 206.10s/it]"
     ]
    },
    {
     "name": "stdout",
     "output_type": "stream",
     "text": [
      "{'max_depth': 10, 'n_estimators': 70, 'random_state': 100}\n",
      "3 0.8660209257796467 146458425.78410947 0.862481973178588\n"
     ]
    },
    {
     "name": "stderr",
     "output_type": "stream",
     "text": [
      "\n",
      "100%|██████████| 455/455 [00:00<00:00, 9836.95it/s]\n",
      "\n",
      "100%|██████████| 910/910 [00:00<00:00, 231631.06it/s]\n",
      " 22%|██▏       | 30/135 [1:41:31<4:58:18, 170.46s/it]"
     ]
    },
    {
     "name": "stdout",
     "output_type": "stream",
     "text": [
      "{'max_depth': 18, 'n_estimators': 30, 'random_state': 100}\n",
      "3 0.37907403344174995 868723669.6199691 0.3736345317891667\n"
     ]
    },
    {
     "name": "stderr",
     "output_type": "stream",
     "text": [
      "\n",
      "100%|██████████| 455/455 [00:00<00:00, 9758.04it/s]\n",
      "\n",
      "100%|██████████| 910/910 [00:00<00:00, 230136.67it/s]\n",
      " 23%|██▎       | 31/135 [1:43:23<4:24:53, 152.82s/it]"
     ]
    },
    {
     "name": "stdout",
     "output_type": "stream",
     "text": [
      "{'max_depth': 12, 'n_estimators': 40, 'random_state': 100}\n",
      "3 0.797269509344577 671926133.0172074 0.7963420492297774\n"
     ]
    },
    {
     "name": "stderr",
     "output_type": "stream",
     "text": [
      "\n",
      "100%|██████████| 455/455 [00:00<00:00, 9851.27it/s]\n",
      "\n",
      "100%|██████████| 910/910 [00:00<00:00, 232633.43it/s]\n",
      " 24%|██▎       | 32/135 [1:47:41<5:16:24, 184.32s/it]"
     ]
    },
    {
     "name": "stdout",
     "output_type": "stream",
     "text": [
      "{'max_depth': 12, 'n_estimators': 90, 'random_state': 100}\n",
      "3 0.7807266376712064 262256293.89321944 0.7798966993404333\n"
     ]
    },
    {
     "name": "stderr",
     "output_type": "stream",
     "text": [
      "\n",
      "100%|██████████| 455/455 [00:00<00:00, 9604.37it/s]\n",
      "\n",
      "100%|██████████| 910/910 [00:00<00:00, 217185.42it/s]\n",
      " 24%|██▍       | 33/135 [1:50:39<5:10:08, 182.44s/it]"
     ]
    },
    {
     "name": "stdout",
     "output_type": "stream",
     "text": [
      "{'max_depth': 19, 'n_estimators': 60, 'random_state': 100}\n",
      "3 0.34161173721058213 1090978063.1926768 0.3316501376015355\n"
     ]
    },
    {
     "name": "stderr",
     "output_type": "stream",
     "text": [
      "\n",
      "100%|██████████| 455/455 [00:00<00:00, 9891.05it/s]\n",
      "\n",
      "100%|██████████| 910/910 [00:00<00:00, 221085.30it/s]\n",
      " 25%|██▌       | 34/135 [1:53:04<4:48:13, 171.22s/it]"
     ]
    },
    {
     "name": "stdout",
     "output_type": "stream",
     "text": [
      "{'max_depth': 10, 'n_estimators': 50, 'random_state': 100}\n",
      "3 0.5209034547292414 1013849234.8150353 0.5209029926779175\n"
     ]
    },
    {
     "name": "stderr",
     "output_type": "stream",
     "text": [
      "\n",
      "100%|██████████| 455/455 [00:00<00:00, 9841.06it/s]\n",
      "\n",
      "100%|██████████| 910/910 [00:00<00:00, 227056.31it/s]\n",
      " 26%|██▌       | 35/135 [1:56:19<4:57:37, 178.58s/it]"
     ]
    },
    {
     "name": "stdout",
     "output_type": "stream",
     "text": [
      "{'max_depth': 10, 'n_estimators': 70, 'random_state': 100}\n",
      "3 0.6260109356823935 690194229.7199775 0.6259651093907455\n"
     ]
    },
    {
     "name": "stderr",
     "output_type": "stream",
     "text": [
      "\n",
      "100%|██████████| 455/455 [00:00<00:00, 8699.65it/s]\n",
      "\n",
      "100%|██████████| 910/910 [00:00<00:00, 210897.15it/s]\n",
      " 27%|██▋       | 36/135 [2:00:29<5:29:55, 199.95s/it]"
     ]
    },
    {
     "name": "stdout",
     "output_type": "stream",
     "text": [
      "{'max_depth': 11, 'n_estimators': 90, 'random_state': 100}\n",
      "3 0.7928289583122582 346207097.21709293 0.7900131361111428\n"
     ]
    },
    {
     "name": "stderr",
     "output_type": "stream",
     "text": [
      "\n",
      "100%|██████████| 455/455 [00:00<00:00, 9759.93it/s]\n",
      "\n",
      "100%|██████████| 910/910 [00:00<00:00, 223912.74it/s]\n",
      " 27%|██▋       | 37/135 [2:03:20<5:12:16, 191.19s/it]"
     ]
    },
    {
     "name": "stdout",
     "output_type": "stream",
     "text": [
      "{'max_depth': 11, 'n_estimators': 60, 'random_state': 100}\n",
      "3 0.6992752347993194 498053377.34716475 0.6976905787719645\n"
     ]
    },
    {
     "name": "stderr",
     "output_type": "stream",
     "text": [
      "\n",
      "100%|██████████| 455/455 [00:00<00:00, 9754.74it/s]\n",
      "\n",
      "100%|██████████| 910/910 [00:00<00:00, 230428.44it/s]\n",
      " 28%|██▊       | 38/135 [2:05:52<4:49:58, 179.37s/it]"
     ]
    },
    {
     "name": "stdout",
     "output_type": "stream",
     "text": [
      "{'max_depth': 10, 'n_estimators': 50, 'random_state': 100}\n",
      "3 0.4535234262711705 878210229.1077741 0.4503563399319864\n"
     ]
    },
    {
     "name": "stderr",
     "output_type": "stream",
     "text": [
      "\n",
      "100%|██████████| 455/455 [00:00<00:00, 9467.77it/s]\n",
      "\n",
      "100%|██████████| 910/910 [00:00<00:00, 223820.83it/s]\n",
      " 29%|██▉       | 39/135 [2:08:44<4:43:45, 177.35s/it]"
     ]
    },
    {
     "name": "stdout",
     "output_type": "stream",
     "text": [
      "{'max_depth': 16, 'n_estimators': 60, 'random_state': 100}\n",
      "3 0.6575482783297626 1022983036.1459028 0.6503155194508152\n"
     ]
    },
    {
     "name": "stderr",
     "output_type": "stream",
     "text": [
      "\n",
      "100%|██████████| 455/455 [00:00<00:00, 9478.16it/s]\n",
      "\n",
      "100%|██████████| 910/910 [00:00<00:00, 219319.46it/s]\n",
      " 30%|██▉       | 40/135 [2:13:10<5:22:44, 203.84s/it]"
     ]
    },
    {
     "name": "stdout",
     "output_type": "stream",
     "text": [
      "{'max_depth': 18, 'n_estimators': 100, 'random_state': 100}\n",
      "3 0.6404441079879686 15678395.424813839 0.6403910113408147\n"
     ]
    },
    {
     "name": "stderr",
     "output_type": "stream",
     "text": [
      "\n",
      "100%|██████████| 455/455 [00:00<00:00, 9081.26it/s]\n",
      "\n",
      "100%|██████████| 910/910 [00:00<00:00, 192186.13it/s]\n",
      " 30%|███       | 41/135 [2:16:57<5:30:08, 210.72s/it]"
     ]
    },
    {
     "name": "stdout",
     "output_type": "stream",
     "text": [
      "{'max_depth': 15, 'n_estimators': 80, 'random_state': 100}\n",
      "3 0.834081805043537 363988202.1922175 0.8340811377939996\n"
     ]
    },
    {
     "name": "stderr",
     "output_type": "stream",
     "text": [
      "\n",
      "100%|██████████| 455/455 [00:00<00:00, 9315.17it/s]\n",
      "\n",
      "100%|██████████| 910/910 [00:00<00:00, 202935.81it/s]\n",
      " 31%|███       | 42/135 [2:21:27<5:54:20, 228.61s/it]"
     ]
    },
    {
     "name": "stdout",
     "output_type": "stream",
     "text": [
      "{'max_depth': 19, 'n_estimators': 100, 'random_state': 100}\n",
      "3 0.6632845316095876 28359246.1489119 0.6617235244940711\n"
     ]
    },
    {
     "name": "stderr",
     "output_type": "stream",
     "text": [
      "\n",
      "100%|██████████| 455/455 [00:00<00:00, 9315.17it/s]\n",
      "\n",
      "100%|██████████| 910/910 [00:00<00:00, 204501.53it/s]\n",
      " 32%|███▏      | 43/135 [2:25:21<5:53:07, 230.30s/it]"
     ]
    },
    {
     "name": "stdout",
     "output_type": "stream",
     "text": [
      "{'max_depth': 17, 'n_estimators': 80, 'random_state': 100}\n",
      "3 0.654142150007587 24652203.800539963 0.6363973555602441\n"
     ]
    },
    {
     "name": "stderr",
     "output_type": "stream",
     "text": [
      "\n",
      "100%|██████████| 455/455 [00:00<00:00, 9673.90it/s]\n",
      "\n",
      "100%|██████████| 910/910 [00:00<00:00, 196469.69it/s]\n",
      " 33%|███▎      | 44/135 [2:30:32<6:25:50, 254.40s/it]"
     ]
    },
    {
     "name": "stdout",
     "output_type": "stream",
     "text": [
      "{'max_depth': 17, 'n_estimators': 100, 'random_state': 100}\n",
      "3 0.7395552045887293 239849413.67503783 0.7370215999800498\n"
     ]
    },
    {
     "name": "stderr",
     "output_type": "stream",
     "text": [
      "\n",
      "100%|██████████| 455/455 [00:00<00:00, 9446.63it/s]\n",
      "\n",
      "100%|██████████| 910/910 [00:00<00:00, 218378.34it/s]\n",
      " 33%|███▎      | 45/135 [2:32:32<5:21:09, 214.11s/it]"
     ]
    },
    {
     "name": "stdout",
     "output_type": "stream",
     "text": [
      "{'max_depth': 17, 'n_estimators': 40, 'random_state': 100}\n",
      "3 0.09441346413708951 994250909.1663902 0.047599103379687424\n"
     ]
    },
    {
     "name": "stderr",
     "output_type": "stream",
     "text": [
      "\n",
      "100%|██████████| 180/180 [00:00<00:00, 9250.10it/s]\n",
      "\n",
      "100%|██████████| 359/359 [00:00<00:00, 206806.09it/s]\n",
      " 34%|███▍      | 46/135 [2:34:14<4:27:43, 180.49s/it]"
     ]
    },
    {
     "name": "stdout",
     "output_type": "stream",
     "text": [
      "{'max_depth': 19, 'n_estimators': 100, 'random_state': 100}\n",
      "3 0.30092669835170327 4080970.901258647 0.2996603242869148\n"
     ]
    },
    {
     "name": "stderr",
     "output_type": "stream",
     "text": [
      "\n",
      "100%|██████████| 455/455 [00:00<00:00, 9267.76it/s]\n",
      "\n",
      "100%|██████████| 910/910 [00:00<00:00, 222554.91it/s]\n",
      " 35%|███▍      | 47/135 [2:38:00<4:44:31, 194.00s/it]"
     ]
    },
    {
     "name": "stdout",
     "output_type": "stream",
     "text": [
      "{'max_depth': 14, 'n_estimators': 80, 'random_state': 100}\n",
      "3 0.8334801662183844 457912922.18179035 0.8314339272776837\n"
     ]
    },
    {
     "name": "stderr",
     "output_type": "stream",
     "text": [
      "\n",
      "100%|██████████| 455/455 [00:00<00:00, 9869.21it/s]\n",
      "\n",
      "100%|██████████| 910/910 [00:00<00:00, 227272.64it/s]\n",
      " 36%|███▌      | 48/135 [2:40:28<4:21:30, 180.35s/it]"
     ]
    },
    {
     "name": "stdout",
     "output_type": "stream",
     "text": [
      "{'max_depth': 14, 'n_estimators': 50, 'random_state': 100}\n",
      "3 0.48306023124825626 1251721197.7498941 0.4753806757051764\n"
     ]
    },
    {
     "name": "stderr",
     "output_type": "stream",
     "text": [
      "\n",
      "100%|██████████| 455/455 [00:00<00:00, 9824.45it/s]\n",
      "\n",
      "100%|██████████| 910/910 [00:00<00:00, 232931.57it/s]\n",
      " 36%|███▋      | 49/135 [2:43:04<4:07:46, 172.86s/it]"
     ]
    },
    {
     "name": "stdout",
     "output_type": "stream",
     "text": [
      "{'max_depth': 16, 'n_estimators': 50, 'random_state': 100}\n",
      "3 0.6236531116971424 240910180.1082439 0.6230684556660546\n"
     ]
    },
    {
     "name": "stderr",
     "output_type": "stream",
     "text": [
      "\n",
      "100%|██████████| 455/455 [00:00<00:00, 9455.52it/s]\n",
      "\n",
      "100%|██████████| 910/910 [00:00<00:00, 229045.65it/s]\n",
      " 37%|███▋      | 50/135 [2:44:57<3:39:25, 154.89s/it]"
     ]
    },
    {
     "name": "stdout",
     "output_type": "stream",
     "text": [
      "{'max_depth': 16, 'n_estimators': 40, 'random_state': 100}\n",
      "3 0.723667584511138 898130887.8174567 0.7232983617408696\n"
     ]
    },
    {
     "name": "stderr",
     "output_type": "stream",
     "text": [
      "\n",
      "100%|██████████| 455/455 [00:00<00:00, 9872.01it/s]\n",
      "\n",
      "100%|██████████| 910/910 [00:00<00:00, 233045.34it/s]\n",
      " 38%|███▊      | 51/135 [2:48:37<4:04:11, 174.42s/it]"
     ]
    },
    {
     "name": "stdout",
     "output_type": "stream",
     "text": [
      "{'max_depth': 17, 'n_estimators': 80, 'random_state': 100}\n",
      "3 0.5075978218569909 403332683.7941484 0.5020098037475937\n"
     ]
    },
    {
     "name": "stderr",
     "output_type": "stream",
     "text": [
      "\n",
      "100%|██████████| 455/455 [00:00<00:00, 9848.27it/s]\n",
      "\n",
      "100%|██████████| 910/910 [00:00<00:00, 221740.35it/s]\n",
      " 39%|███▊      | 52/135 [2:51:59<4:12:46, 182.73s/it]"
     ]
    },
    {
     "name": "stdout",
     "output_type": "stream",
     "text": [
      "{'max_depth': 12, 'n_estimators': 70, 'random_state': 100}\n",
      "3 0.6657622920985261 46787385.00255801 0.6656882743479982\n"
     ]
    },
    {
     "name": "stderr",
     "output_type": "stream",
     "text": [
      "\n",
      "100%|██████████| 455/455 [00:00<00:00, 10130.47it/s]\n",
      "\n",
      "100%|██████████| 910/910 [00:00<00:00, 230261.62it/s]\n",
      " 39%|███▉      | 53/135 [2:56:15<4:39:51, 204.78s/it]"
     ]
    },
    {
     "name": "stdout",
     "output_type": "stream",
     "text": [
      "{'max_depth': 16, 'n_estimators': 90, 'random_state': 100}\n",
      "3 0.6284953678281082 132568879.48446801 0.626658038610448\n"
     ]
    },
    {
     "name": "stderr",
     "output_type": "stream",
     "text": [
      "\n",
      "100%|██████████| 455/455 [00:00<00:00, 9338.14it/s]\n",
      "\n",
      "100%|██████████| 910/910 [00:00<00:00, 211528.30it/s]\n",
      " 40%|████      | 54/135 [2:59:27<4:31:17, 200.96s/it]"
     ]
    },
    {
     "name": "stdout",
     "output_type": "stream",
     "text": [
      "{'max_depth': 12, 'n_estimators': 70, 'random_state': 100}\n",
      "3 0.5190111535516289 817246708.4266317 0.5130271253255168\n"
     ]
    },
    {
     "name": "stderr",
     "output_type": "stream",
     "text": [
      "\n",
      "100%|██████████| 455/455 [00:00<00:00, 9925.20it/s]\n",
      "\n",
      "100%|██████████| 910/910 [00:00<00:00, 215128.88it/s]\n",
      " 41%|████      | 55/135 [3:04:09<5:00:31, 225.39s/it]"
     ]
    },
    {
     "name": "stdout",
     "output_type": "stream",
     "text": [
      "{'max_depth': 19, 'n_estimators': 100, 'random_state': 100}\n",
      "3 0.6168435011648097 229057638.99137452 0.608339897744639\n"
     ]
    },
    {
     "name": "stderr",
     "output_type": "stream",
     "text": [
      "\n",
      "100%|██████████| 455/455 [00:00<00:00, 9895.56it/s]\n",
      "\n",
      "100%|██████████| 910/910 [00:00<00:00, 230846.54it/s]\n",
      " 41%|████▏     | 56/135 [3:07:02<4:35:56, 209.57s/it]"
     ]
    },
    {
     "name": "stdout",
     "output_type": "stream",
     "text": [
      "{'max_depth': 14, 'n_estimators': 60, 'random_state': 100}\n",
      "3 0.3245284183134266 85170970.35582408 0.3041928621221366\n"
     ]
    },
    {
     "name": "stderr",
     "output_type": "stream",
     "text": [
      "\n",
      "100%|██████████| 455/455 [00:00<00:00, 9910.00it/s]\n",
      "\n",
      "100%|██████████| 910/910 [00:00<00:00, 217817.53it/s]\n",
      " 42%|████▏     | 57/135 [3:08:56<3:55:04, 180.82s/it]"
     ]
    },
    {
     "name": "stdout",
     "output_type": "stream",
     "text": [
      "{'max_depth': 19, 'n_estimators': 40, 'random_state': 100}\n",
      "3 0.5262556581135113 1065044684.8247004 0.5260823948467541\n"
     ]
    },
    {
     "name": "stderr",
     "output_type": "stream",
     "text": [
      "\n",
      "100%|██████████| 455/455 [00:00<00:00, 9549.82it/s]\n",
      "\n",
      "100%|██████████| 910/910 [00:00<00:00, 224531.83it/s]\n",
      " 43%|████▎     | 58/135 [3:12:13<3:58:19, 185.71s/it]"
     ]
    },
    {
     "name": "stdout",
     "output_type": "stream",
     "text": [
      "{'max_depth': 15, 'n_estimators': 70, 'random_state': 100}\n",
      "3 0.47840461635872655 688365166.6122311 0.4717887860458385\n"
     ]
    },
    {
     "name": "stderr",
     "output_type": "stream",
     "text": [
      "\n",
      "100%|██████████| 455/455 [00:00<00:00, 9012.77it/s]\n",
      "\n",
      "100%|██████████| 910/910 [00:00<00:00, 226705.67it/s]\n",
      " 44%|████▎     | 59/135 [3:16:53<4:31:17, 214.17s/it]"
     ]
    },
    {
     "name": "stdout",
     "output_type": "stream",
     "text": [
      "{'max_depth': 15, 'n_estimators': 100, 'random_state': 100}\n",
      "3 0.3889624596268585 974341924.0811625 0.38418043918920153\n"
     ]
    },
    {
     "name": "stderr",
     "output_type": "stream",
     "text": [
      "\n",
      "100%|██████████| 455/455 [00:00<00:00, 8689.00it/s]\n",
      "\n",
      "100%|██████████| 910/910 [00:00<00:00, 216042.15it/s]\n",
      " 44%|████▍     | 60/135 [3:18:21<3:40:04, 176.06s/it]"
     ]
    },
    {
     "name": "stdout",
     "output_type": "stream",
     "text": [
      "{'max_depth': 19, 'n_estimators': 30, 'random_state': 100}\n",
      "3 0.5462131780505388 1807419661.5969894 0.536243276625741\n"
     ]
    },
    {
     "name": "stderr",
     "output_type": "stream",
     "text": [
      "\n",
      "100%|██████████| 455/455 [00:00<00:00, 9802.19it/s]\n",
      "\n",
      "100%|██████████| 910/910 [00:00<00:00, 219432.94it/s]\n",
      " 45%|████▌     | 61/135 [3:20:49<3:26:45, 167.64s/it]"
     ]
    },
    {
     "name": "stdout",
     "output_type": "stream",
     "text": [
      "{'max_depth': 11, 'n_estimators': 50, 'random_state': 100}\n",
      "3 0.6689887837183355 765468171.1400138 0.6688177423926022\n"
     ]
    },
    {
     "name": "stderr",
     "output_type": "stream",
     "text": [
      "\n",
      "100%|██████████| 455/455 [00:00<00:00, 9775.28it/s]\n",
      "\n",
      "100%|██████████| 910/910 [00:00<00:00, 228688.83it/s]\n",
      " 46%|████▌     | 62/135 [3:25:31<4:05:48, 202.03s/it]"
     ]
    },
    {
     "name": "stdout",
     "output_type": "stream",
     "text": [
      "{'max_depth': 18, 'n_estimators': 100, 'random_state': 100}\n",
      "3 0.7892506332432494 824845965.0935477 0.7884265412241503\n"
     ]
    },
    {
     "name": "stderr",
     "output_type": "stream",
     "text": [
      "\n",
      "100%|██████████| 455/455 [00:00<00:00, 9188.20it/s]\n",
      "\n",
      "100%|██████████| 910/910 [00:00<00:00, 226813.44it/s]\n",
      " 47%|████▋     | 63/135 [3:30:12<4:30:50, 225.70s/it]"
     ]
    },
    {
     "name": "stdout",
     "output_type": "stream",
     "text": [
      "{'max_depth': 19, 'n_estimators': 100, 'random_state': 100}\n",
      "3 0.6102121482952071 790419903.6919214 0.6065568373945169\n"
     ]
    },
    {
     "name": "stderr",
     "output_type": "stream",
     "text": [
      "\n",
      "100%|██████████| 455/455 [00:00<00:00, 9895.30it/s]\n",
      "\n",
      "100%|██████████| 910/910 [00:00<00:00, 148670.46it/s]\n",
      " 47%|████▋     | 64/135 [3:33:58<4:27:08, 225.76s/it]"
     ]
    },
    {
     "name": "stdout",
     "output_type": "stream",
     "text": [
      "{'max_depth': 11, 'n_estimators': 80, 'random_state': 100}\n",
      "3 0.6390579670718903 60639790.18269236 0.6349645163858457\n"
     ]
    },
    {
     "name": "stderr",
     "output_type": "stream",
     "text": [
      "\n",
      "100%|██████████| 455/455 [00:00<00:00, 9844.01it/s]\n",
      "\n",
      "100%|██████████| 910/910 [00:00<00:00, 227679.35it/s]\n",
      " 48%|████▊     | 65/135 [3:35:28<3:36:01, 185.17s/it]"
     ]
    },
    {
     "name": "stdout",
     "output_type": "stream",
     "text": [
      "{'max_depth': 10, 'n_estimators': 30, 'random_state': 100}\n",
      "3 0.5090934505554268 891110858.0645645 0.5033718600409887\n"
     ]
    },
    {
     "name": "stderr",
     "output_type": "stream",
     "text": [
      "\n",
      "100%|██████████| 455/455 [00:00<00:00, 9898.49it/s]\n",
      "\n",
      "100%|██████████| 910/910 [00:00<00:00, 224637.55it/s]\n",
      " 49%|████▉     | 66/135 [3:36:51<2:57:47, 154.61s/it]"
     ]
    },
    {
     "name": "stdout",
     "output_type": "stream",
     "text": [
      "{'max_depth': 15, 'n_estimators': 30, 'random_state': 100}\n",
      "3 0.5071473740004725 168298977.27854687 0.506002824140017\n"
     ]
    },
    {
     "name": "stderr",
     "output_type": "stream",
     "text": [
      "\n",
      "100%|██████████| 455/455 [00:00<00:00, 9564.18it/s]\n",
      "\n",
      "100%|██████████| 910/910 [00:00<00:00, 228360.45it/s]\n",
      " 50%|████▉     | 67/135 [3:41:32<3:38:12, 192.53s/it]"
     ]
    },
    {
     "name": "stdout",
     "output_type": "stream",
     "text": [
      "{'max_depth': 18, 'n_estimators': 100, 'random_state': 100}\n",
      "3 0.4613763383679427 1893949658.4530852 0.46122267840528386\n"
     ]
    },
    {
     "name": "stderr",
     "output_type": "stream",
     "text": [
      "\n",
      "100%|██████████| 455/455 [00:00<00:00, 9826.17it/s]\n",
      "\n",
      "100%|██████████| 910/910 [00:00<00:00, 197312.69it/s]\n",
      " 50%|█████     | 68/135 [3:44:47<3:35:33, 193.04s/it]"
     ]
    },
    {
     "name": "stdout",
     "output_type": "stream",
     "text": [
      "{'max_depth': 14, 'n_estimators': 70, 'random_state': 100}\n",
      "3 0.6754566672826 940193622.2302531 0.6754421965385904\n"
     ]
    },
    {
     "name": "stderr",
     "output_type": "stream",
     "text": [
      "\n",
      "100%|██████████| 455/455 [00:00<00:00, 10244.78it/s]\n",
      "\n",
      "100%|██████████| 910/910 [00:00<00:00, 239915.56it/s]\n",
      " 51%|█████     | 69/135 [3:49:10<3:55:35, 214.17s/it]"
     ]
    },
    {
     "name": "stdout",
     "output_type": "stream",
     "text": [
      "{'max_depth': 13, 'n_estimators': 90, 'random_state': 100}\n",
      "3 0.7775236717924379 35197717.31450836 0.7775193937527135\n"
     ]
    },
    {
     "name": "stderr",
     "output_type": "stream",
     "text": [
      "\n",
      "100%|██████████| 455/455 [00:00<00:00, 8002.08it/s]\n",
      "\n",
      "100%|██████████| 910/910 [00:00<00:00, 234117.44it/s]\n",
      " 52%|█████▏    | 70/135 [3:51:58<3:37:00, 200.32s/it]"
     ]
    },
    {
     "name": "stdout",
     "output_type": "stream",
     "text": [
      "{'max_depth': 10, 'n_estimators': 60, 'random_state': 100}\n",
      "3 0.7069076849993292 628799628.4462625 0.706405352454555\n"
     ]
    },
    {
     "name": "stderr",
     "output_type": "stream",
     "text": [
      "\n",
      "100%|██████████| 455/455 [00:00<00:00, 9931.87it/s]\n",
      "\n",
      "100%|██████████| 910/910 [00:00<00:00, 235199.45it/s]\n",
      " 53%|█████▎    | 71/135 [3:54:23<3:15:56, 183.70s/it]"
     ]
    },
    {
     "name": "stdout",
     "output_type": "stream",
     "text": [
      "{'max_depth': 18, 'n_estimators': 50, 'random_state': 100}\n",
      "3 -0.09215428367000489 2131916095.9189055 -0.11602073135573421\n"
     ]
    },
    {
     "name": "stderr",
     "output_type": "stream",
     "text": [
      "\n",
      "100%|██████████| 455/455 [00:00<00:00, 9765.43it/s]\n",
      "\n",
      "100%|██████████| 910/910 [00:00<00:00, 226638.36it/s]\n",
      " 53%|█████▎    | 72/135 [3:57:11<3:07:49, 178.88s/it]"
     ]
    },
    {
     "name": "stdout",
     "output_type": "stream",
     "text": [
      "{'max_depth': 11, 'n_estimators': 60, 'random_state': 100}\n",
      "3 0.7176288212566487 840088714.2345666 0.7176237862441782\n"
     ]
    },
    {
     "name": "stderr",
     "output_type": "stream",
     "text": [
      "\n",
      "100%|██████████| 455/455 [00:00<00:00, 8383.38it/s]\n",
      "\n",
      "100%|██████████| 910/910 [00:00<00:00, 227259.10it/s]\n",
      " 54%|█████▍    | 73/135 [4:00:55<3:19:00, 192.58s/it]"
     ]
    },
    {
     "name": "stdout",
     "output_type": "stream",
     "text": [
      "{'max_depth': 10, 'n_estimators': 80, 'random_state': 100}\n",
      "3 0.5711280744974462 1533449519.5046473 0.5709513516173269\n"
     ]
    },
    {
     "name": "stderr",
     "output_type": "stream",
     "text": [
      "\n",
      "100%|██████████| 455/455 [00:00<00:00, 9819.14it/s]\n",
      "\n",
      "100%|██████████| 910/910 [00:00<00:00, 232675.97it/s]\n",
      " 55%|█████▍    | 74/135 [4:02:18<2:42:16, 159.62s/it]"
     ]
    },
    {
     "name": "stdout",
     "output_type": "stream",
     "text": [
      "{'max_depth': 17, 'n_estimators': 30, 'random_state': 100}\n",
      "3 0.5721872103313024 151736439.43311828 0.5633642259495749\n"
     ]
    },
    {
     "name": "stderr",
     "output_type": "stream",
     "text": [
      "\n",
      "100%|██████████| 455/455 [00:00<00:00, 8975.59it/s]\n",
      "\n",
      "100%|██████████| 910/910 [00:00<00:00, 228196.62it/s]\n",
      " 56%|█████▌    | 75/135 [4:06:56<3:15:13, 195.22s/it]"
     ]
    },
    {
     "name": "stdout",
     "output_type": "stream",
     "text": [
      "{'max_depth': 13, 'n_estimators': 100, 'random_state': 100}\n",
      "3 0.5924103093241351 1330394078.7703843 0.5917281725887376\n"
     ]
    },
    {
     "name": "stderr",
     "output_type": "stream",
     "text": [
      "\n",
      "100%|██████████| 455/455 [00:00<00:00, 8895.47it/s]\n",
      "\n",
      "100%|██████████| 910/910 [00:00<00:00, 228880.83it/s]\n",
      " 56%|█████▋    | 76/135 [4:08:57<2:50:01, 172.91s/it]"
     ]
    },
    {
     "name": "stdout",
     "output_type": "stream",
     "text": [
      "{'max_depth': 13, 'n_estimators': 40, 'random_state': 100}\n",
      "3 0.6262615328904806 771128724.4593922 0.6261263332679928\n"
     ]
    },
    {
     "name": "stderr",
     "output_type": "stream",
     "text": [
      "\n",
      "100%|██████████| 455/455 [00:00<00:00, 9815.35it/s]\n",
      "\n",
      "100%|██████████| 910/910 [00:00<00:00, 224531.83it/s]\n",
      " 57%|█████▋    | 77/135 [4:10:32<2:24:24, 149.39s/it]"
     ]
    },
    {
     "name": "stdout",
     "output_type": "stream",
     "text": [
      "{'max_depth': 18, 'n_estimators': 30, 'random_state': 100}\n",
      "3 0.6834740440842233 597882584.1034657 0.6735301279199092\n"
     ]
    },
    {
     "name": "stderr",
     "output_type": "stream",
     "text": [
      "\n",
      "100%|██████████| 455/455 [00:00<00:00, 9501.94it/s]\n",
      "\n",
      "100%|██████████| 910/910 [00:00<00:00, 214079.12it/s]\n",
      " 58%|█████▊    | 78/135 [4:15:12<2:59:14, 188.68s/it]"
     ]
    },
    {
     "name": "stdout",
     "output_type": "stream",
     "text": [
      "{'max_depth': 10, 'n_estimators': 100, 'random_state': 100}\n",
      "3 0.5286445245169177 1357220736.0761933 0.5283328135128893\n"
     ]
    },
    {
     "name": "stderr",
     "output_type": "stream",
     "text": [
      "\n",
      "100%|██████████| 455/455 [00:00<00:00, 9819.39it/s]\n",
      "\n",
      "100%|██████████| 910/910 [00:00<00:00, 224637.55it/s]\n",
      " 59%|█████▊    | 79/135 [4:17:40<2:44:38, 176.39s/it]"
     ]
    },
    {
     "name": "stdout",
     "output_type": "stream",
     "text": [
      "{'max_depth': 10, 'n_estimators': 50, 'random_state': 100}\n",
      "3 0.8526969629350445 235119472.91291142 0.8507310913591442\n"
     ]
    },
    {
     "name": "stderr",
     "output_type": "stream",
     "text": [
      "\n",
      "100%|██████████| 455/455 [00:00<00:00, 10198.14it/s]\n",
      "\n",
      "100%|██████████| 910/910 [00:00<00:00, 235562.34it/s]\n",
      " 59%|█████▉    | 80/135 [4:20:13<2:35:27, 169.59s/it]"
     ]
    },
    {
     "name": "stdout",
     "output_type": "stream",
     "text": [
      "{'max_depth': 18, 'n_estimators': 50, 'random_state': 100}\n",
      "3 0.39929646503762417 1376992528.9465473 0.39829927877027216\n"
     ]
    },
    {
     "name": "stderr",
     "output_type": "stream",
     "text": [
      "\n",
      "100%|██████████| 455/455 [00:00<00:00, 9797.41it/s]\n",
      "\n",
      "100%|██████████| 910/910 [00:00<00:00, 225700.23it/s]\n",
      " 60%|██████    | 81/135 [4:23:13<2:35:26, 172.72s/it]"
     ]
    },
    {
     "name": "stdout",
     "output_type": "stream",
     "text": [
      "{'max_depth': 17, 'n_estimators': 60, 'random_state': 100}\n",
      "3 0.3537216110741014 1716183517.5862997 0.3534201330975095\n"
     ]
    },
    {
     "name": "stderr",
     "output_type": "stream",
     "text": [
      "\n",
      "100%|██████████| 455/455 [00:00<00:00, 9776.73it/s]\n",
      "\n",
      "100%|██████████| 910/910 [00:00<00:00, 233330.28it/s]\n",
      " 61%|██████    | 82/135 [4:26:51<2:44:20, 186.04s/it]"
     ]
    },
    {
     "name": "stdout",
     "output_type": "stream",
     "text": [
      "{'max_depth': 13, 'n_estimators': 80, 'random_state': 100}\n",
      "3 0.45777131595953824 1352300341.1036208 0.4510687011455845\n"
     ]
    },
    {
     "name": "stderr",
     "output_type": "stream",
     "text": [
      "\n",
      "100%|██████████| 455/455 [00:00<00:00, 9825.56it/s]\n",
      "\n",
      "100%|██████████| 910/910 [00:00<00:00, 225074.69it/s]\n",
      " 61%|██████▏   | 83/135 [4:28:19<2:15:45, 156.65s/it]"
     ]
    },
    {
     "name": "stdout",
     "output_type": "stream",
     "text": [
      "{'max_depth': 19, 'n_estimators': 30, 'random_state': 100}\n",
      "3 0.6591497067600685 796504513.8727325 0.6537380433735581\n"
     ]
    },
    {
     "name": "stderr",
     "output_type": "stream",
     "text": [
      "\n",
      "100%|██████████| 455/455 [00:00<00:00, 8550.06it/s]\n",
      "\n",
      "100%|██████████| 910/910 [00:00<00:00, 231912.54it/s]\n",
      " 62%|██████▏   | 84/135 [4:32:27<2:36:39, 184.30s/it]"
     ]
    },
    {
     "name": "stdout",
     "output_type": "stream",
     "text": [
      "{'max_depth': 18, 'n_estimators': 90, 'random_state': 100}\n",
      "3 0.4805896684985238 61320762.64884443 0.47627810898790945\n"
     ]
    },
    {
     "name": "stderr",
     "output_type": "stream",
     "text": [
      "\n",
      "100%|██████████| 455/455 [00:00<00:00, 9397.32it/s]\n",
      "\n",
      "100%|██████████| 910/910 [00:00<00:00, 218954.60it/s]\n",
      " 63%|██████▎   | 85/135 [4:35:39<2:35:21, 186.43s/it]"
     ]
    },
    {
     "name": "stdout",
     "output_type": "stream",
     "text": [
      "{'max_depth': 11, 'n_estimators': 70, 'random_state': 100}\n",
      "3 0.6126058924104769 1625576172.4647937 0.6125805966605853\n"
     ]
    },
    {
     "name": "stderr",
     "output_type": "stream",
     "text": [
      "\n",
      "100%|██████████| 455/455 [00:00<00:00, 10538.80it/s]\n",
      "\n",
      "100%|██████████| 910/910 [00:00<00:00, 240611.27it/s]\n",
      " 64%|██████▎   | 86/135 [4:40:05<2:51:49, 210.40s/it]"
     ]
    },
    {
     "name": "stdout",
     "output_type": "stream",
     "text": [
      "{'max_depth': 13, 'n_estimators': 90, 'random_state': 100}\n",
      "3 0.8306352623327936 356469113.1205022 0.8301237817715358\n"
     ]
    },
    {
     "name": "stderr",
     "output_type": "stream",
     "text": [
      "\n",
      "100%|██████████| 455/455 [00:00<00:00, 10333.87it/s]\n",
      "\n",
      "100%|██████████| 910/910 [00:00<00:00, 234477.00it/s]\n",
      " 64%|██████▍   | 87/135 [4:44:18<2:58:31, 223.16s/it]"
     ]
    },
    {
     "name": "stdout",
     "output_type": "stream",
     "text": [
      "{'max_depth': 18, 'n_estimators': 90, 'random_state': 100}\n",
      "3 0.6398914729222522 343833346.7221955 0.6290394537938155\n"
     ]
    },
    {
     "name": "stderr",
     "output_type": "stream",
     "text": [
      "\n",
      "100%|██████████| 455/455 [00:00<00:00, 9316.17it/s]\n",
      "\n",
      "100%|██████████| 910/910 [00:00<00:00, 215238.07it/s]\n",
      " 65%|██████▌   | 88/135 [4:47:32<2:47:54, 214.35s/it]"
     ]
    },
    {
     "name": "stdout",
     "output_type": "stream",
     "text": [
      "{'max_depth': 15, 'n_estimators': 70, 'random_state': 100}\n",
      "3 0.6620618875106381 764816126.666594 0.6603740704231286\n"
     ]
    },
    {
     "name": "stderr",
     "output_type": "stream",
     "text": [
      "\n",
      "100%|██████████| 455/455 [00:00<00:00, 9860.44it/s]\n",
      "\n",
      "100%|██████████| 910/910 [00:00<00:00, 230860.50it/s]\n",
      " 66%|██████▌   | 89/135 [4:49:25<2:21:01, 183.94s/it]"
     ]
    },
    {
     "name": "stdout",
     "output_type": "stream",
     "text": [
      "{'max_depth': 12, 'n_estimators': 40, 'random_state': 100}\n",
      "3 0.6856242882057764 1649222184.4136596 0.6855771454443981\n"
     ]
    },
    {
     "name": "stderr",
     "output_type": "stream",
     "text": [
      "\n",
      "100%|██████████| 455/455 [00:00<00:00, 9448.41it/s]\n",
      "\n",
      "100%|██████████| 910/910 [00:00<00:00, 224862.53it/s]\n",
      " 67%|██████▋   | 90/135 [4:51:20<2:02:28, 163.30s/it]"
     ]
    },
    {
     "name": "stdout",
     "output_type": "stream",
     "text": [
      "{'max_depth': 15, 'n_estimators': 40, 'random_state': 100}\n",
      "3 0.7721239546218843 196955269.96868035 0.7711724216814069\n"
     ]
    },
    {
     "name": "stderr",
     "output_type": "stream",
     "text": [
      "\n",
      "100%|██████████| 455/455 [00:00<00:00, 9834.82it/s]\n",
      "\n",
      "100%|██████████| 910/910 [00:00<00:00, 229624.39it/s]\n",
      " 67%|██████▋   | 91/135 [4:52:53<1:44:20, 142.29s/it]"
     ]
    },
    {
     "name": "stdout",
     "output_type": "stream",
     "text": [
      "{'max_depth': 18, 'n_estimators': 30, 'random_state': 100}\n",
      "3 0.2881697156698041 62139954.473416775 0.278589558894911\n"
     ]
    },
    {
     "name": "stderr",
     "output_type": "stream",
     "text": [
      "\n",
      "100%|██████████| 455/455 [00:00<00:00, 9824.04it/s]\n",
      "\n",
      "100%|██████████| 910/910 [00:00<00:00, 219850.05it/s]\n",
      " 68%|██████▊   | 92/135 [4:55:51<1:49:30, 152.80s/it]"
     ]
    },
    {
     "name": "stdout",
     "output_type": "stream",
     "text": [
      "{'max_depth': 19, 'n_estimators': 60, 'random_state': 100}\n",
      "3 0.7653401755356914 592726598.5767548 0.7639200178330159\n"
     ]
    },
    {
     "name": "stderr",
     "output_type": "stream",
     "text": [
      "\n",
      "100%|██████████| 455/455 [00:00<00:00, 10059.45it/s]\n",
      "\n",
      "100%|██████████| 910/910 [00:00<00:00, 226262.18it/s]\n",
      " 69%|██████▉   | 93/135 [5:00:05<2:08:18, 183.29s/it]"
     ]
    },
    {
     "name": "stdout",
     "output_type": "stream",
     "text": [
      "{'max_depth': 14, 'n_estimators': 90, 'random_state': 100}\n",
      "3 0.7254520073654185 1167448596.9639912 0.72522215007759\n"
     ]
    },
    {
     "name": "stderr",
     "output_type": "stream",
     "text": [
      "\n",
      "100%|██████████| 455/455 [00:00<00:00, 9795.30it/s]\n",
      "\n",
      "100%|██████████| 910/910 [00:00<00:00, 217408.10it/s]\n",
      " 70%|██████▉   | 94/135 [5:03:10<2:05:34, 183.77s/it]"
     ]
    },
    {
     "name": "stdout",
     "output_type": "stream",
     "text": [
      "{'max_depth': 16, 'n_estimators': 60, 'random_state': 100}\n",
      "3 0.3360000732017282 726596852.854234 0.33380608369120623\n"
     ]
    },
    {
     "name": "stderr",
     "output_type": "stream",
     "text": [
      "\n",
      "100%|██████████| 455/455 [00:00<00:00, 10123.54it/s]\n",
      "\n",
      "100%|██████████| 910/910 [00:00<00:00, 237600.64it/s]\n",
      " 70%|███████   | 95/135 [5:07:39<2:19:35, 209.40s/it]"
     ]
    },
    {
     "name": "stdout",
     "output_type": "stream",
     "text": [
      "{'max_depth': 17, 'n_estimators': 90, 'random_state': 100}\n",
      "3 0.545519390733801 1741522050.1508262 0.542429887422779\n"
     ]
    },
    {
     "name": "stderr",
     "output_type": "stream",
     "text": [
      "\n",
      "100%|██████████| 455/455 [00:00<00:00, 9929.75it/s]\n",
      "\n",
      "100%|██████████| 910/910 [00:00<00:00, 228060.27it/s]\n",
      " 71%|███████   | 96/135 [5:12:17<2:29:22, 229.80s/it]"
     ]
    },
    {
     "name": "stdout",
     "output_type": "stream",
     "text": [
      "{'max_depth': 19, 'n_estimators': 100, 'random_state': 100}\n",
      "3 0.6033998688856379 1251544779.126108 0.6033201949412899\n"
     ]
    },
    {
     "name": "stderr",
     "output_type": "stream",
     "text": [
      "\n",
      "100%|██████████| 455/455 [00:00<00:00, 9791.83it/s]\n",
      "\n",
      "100%|██████████| 910/910 [00:00<00:00, 221998.29it/s]\n",
      " 72%|███████▏  | 97/135 [5:16:55<2:34:51, 244.50s/it]"
     ]
    },
    {
     "name": "stdout",
     "output_type": "stream",
     "text": [
      "{'max_depth': 15, 'n_estimators': 100, 'random_state': 100}\n",
      "3 0.5764462169926958 508581358.5254611 0.5729931283331009\n"
     ]
    },
    {
     "name": "stderr",
     "output_type": "stream",
     "text": [
      "\n",
      "100%|██████████| 455/455 [00:00<00:00, 9558.05it/s]\n",
      "\n",
      "100%|██████████| 910/910 [00:00<00:00, 233816.26it/s]\n",
      " 73%|███████▎  | 98/135 [5:18:25<2:02:09, 198.10s/it]"
     ]
    },
    {
     "name": "stdout",
     "output_type": "stream",
     "text": [
      "{'max_depth': 13, 'n_estimators': 30, 'random_state': 100}\n",
      "3 0.6500051088951158 1112669848.9585671 0.6465577806843856\n"
     ]
    },
    {
     "name": "stderr",
     "output_type": "stream",
     "text": [
      "\n",
      "100%|██████████| 455/455 [00:00<00:00, 9762.08it/s]\n",
      "\n",
      "100%|██████████| 910/910 [00:00<00:00, 227557.18it/s]\n",
      " 73%|███████▎  | 99/135 [5:19:56<1:39:34, 165.97s/it]"
     ]
    },
    {
     "name": "stdout",
     "output_type": "stream",
     "text": [
      "{'max_depth': 19, 'n_estimators': 30, 'random_state': 100}\n",
      "3 0.10311075099468037 49885025.211275555 0.09221503189971092\n"
     ]
    },
    {
     "name": "stderr",
     "output_type": "stream",
     "text": [
      "\n",
      "100%|██████████| 455/455 [00:00<00:00, 10339.92it/s]\n",
      "\n",
      "100%|██████████| 910/910 [00:00<00:00, 127486.44it/s]\n",
      " 74%|███████▍  | 100/135 [5:24:12<1:52:29, 192.83s/it]"
     ]
    },
    {
     "name": "stdout",
     "output_type": "stream",
     "text": [
      "{'max_depth': 19, 'n_estimators': 90, 'random_state': 100}\n",
      "3 0.6967136208188676 81285458.65479374 0.6966852754682586\n"
     ]
    },
    {
     "name": "stderr",
     "output_type": "stream",
     "text": [
      "\n",
      "100%|██████████| 455/455 [00:00<00:00, 9820.25it/s]\n",
      "\n",
      "100%|██████████| 910/910 [00:00<00:00, 226530.75it/s]\n",
      " 75%|███████▍  | 101/135 [5:26:08<1:36:18, 169.95s/it]"
     ]
    },
    {
     "name": "stdout",
     "output_type": "stream",
     "text": [
      "{'max_depth': 17, 'n_estimators': 40, 'random_state': 100}\n",
      "3 0.7957524560667049 148519860.58324456 0.79533369125465\n"
     ]
    },
    {
     "name": "stderr",
     "output_type": "stream",
     "text": [
      "\n",
      "100%|██████████| 455/455 [00:00<00:00, 9391.73it/s]\n",
      "\n",
      "100%|██████████| 910/910 [00:00<00:00, 225526.86it/s]\n",
      " 76%|███████▌  | 102/135 [5:29:55<1:42:50, 186.98s/it]"
     ]
    },
    {
     "name": "stdout",
     "output_type": "stream",
     "text": [
      "{'max_depth': 12, 'n_estimators': 80, 'random_state': 100}\n",
      "3 0.6486742677860688 555548939.1390907 0.6447228453528768\n"
     ]
    },
    {
     "name": "stderr",
     "output_type": "stream",
     "text": [
      "\n",
      "100%|██████████| 455/455 [00:00<00:00, 10177.15it/s]\n",
      "\n",
      "100%|██████████| 910/910 [00:00<00:00, 243186.79it/s]\n",
      " 76%|███████▋  | 103/135 [5:34:04<1:49:43, 205.74s/it]"
     ]
    },
    {
     "name": "stdout",
     "output_type": "stream",
     "text": [
      "{'max_depth': 18, 'n_estimators': 90, 'random_state': 100}\n",
      "3 0.5074507052757906 36849318.86926171 0.4692102504739303\n"
     ]
    },
    {
     "name": "stderr",
     "output_type": "stream",
     "text": [
      "\n",
      "100%|██████████| 455/455 [00:00<00:00, 9800.33it/s]\n",
      "\n",
      "100%|██████████| 910/910 [00:00<00:00, 227625.04it/s]\n",
      " 77%|███████▋  | 104/135 [5:35:34<1:28:12, 170.74s/it]"
     ]
    },
    {
     "name": "stdout",
     "output_type": "stream",
     "text": [
      "{'max_depth': 18, 'n_estimators': 30, 'random_state': 100}\n",
      "3 0.7101110526868056 1572848976.1343193 0.7084430503015837\n"
     ]
    },
    {
     "name": "stderr",
     "output_type": "stream",
     "text": [
      "\n",
      "100%|██████████| 455/455 [00:00<00:00, 9749.56it/s]\n",
      "\n",
      "100%|██████████| 910/910 [00:00<00:00, 221740.35it/s]\n",
      " 78%|███████▊  | 105/135 [5:40:12<1:41:33, 203.13s/it]"
     ]
    },
    {
     "name": "stdout",
     "output_type": "stream",
     "text": [
      "{'max_depth': 19, 'n_estimators': 100, 'random_state': 100}\n",
      "3 0.4672361977808259 2586598413.876199 0.46717982704388394\n"
     ]
    },
    {
     "name": "stderr",
     "output_type": "stream",
     "text": [
      "\n",
      "100%|██████████| 455/455 [00:00<00:00, 9425.77it/s]\n",
      "\n",
      "100%|██████████| 910/910 [00:00<00:00, 219080.28it/s]\n",
      " 79%|███████▊  | 106/135 [5:42:06<1:25:11, 176.27s/it]"
     ]
    },
    {
     "name": "stdout",
     "output_type": "stream",
     "text": [
      "{'max_depth': 17, 'n_estimators': 40, 'random_state': 100}\n",
      "3 0.6608636835435928 690502526.8308932 0.6577875385143102\n"
     ]
    },
    {
     "name": "stderr",
     "output_type": "stream",
     "text": [
      "\n",
      "100%|██████████| 455/455 [00:00<00:00, 10146.30it/s]\n",
      "\n",
      "100%|██████████| 910/910 [00:00<00:00, 237408.51it/s]\n",
      " 79%|███████▉  | 107/135 [5:43:34<1:09:56, 149.86s/it]"
     ]
    },
    {
     "name": "stdout",
     "output_type": "stream",
     "text": [
      "{'max_depth': 13, 'n_estimators': 30, 'random_state': 100}\n",
      "3 0.575591813868844 1019710521.3510305 0.5738754059746085\n"
     ]
    },
    {
     "name": "stderr",
     "output_type": "stream",
     "text": [
      "\n",
      "100%|██████████| 455/455 [00:00<00:00, 9756.64it/s]\n",
      "\n",
      "100%|██████████| 910/910 [00:00<00:00, 221573.01it/s]\n",
      " 80%|████████  | 108/135 [5:45:28<1:02:31, 138.96s/it]"
     ]
    },
    {
     "name": "stdout",
     "output_type": "stream",
     "text": [
      "{'max_depth': 17, 'n_estimators': 40, 'random_state': 100}\n",
      "3 0.6867889848544244 221639307.3002521 0.6832536358256232\n"
     ]
    },
    {
     "name": "stderr",
     "output_type": "stream",
     "text": [
      "\n",
      "100%|██████████| 455/455 [00:00<00:00, 9164.47it/s]\n",
      "\n",
      "100%|██████████| 910/910 [00:00<00:00, 207345.54it/s]\n",
      " 81%|████████  | 109/135 [5:50:08<1:18:37, 181.43s/it]"
     ]
    },
    {
     "name": "stdout",
     "output_type": "stream",
     "text": [
      "{'max_depth': 15, 'n_estimators': 100, 'random_state': 100}\n",
      "3 0.5819274698226238 2686068947.4141464 0.5817482952632982\n"
     ]
    },
    {
     "name": "stderr",
     "output_type": "stream",
     "text": [
      "\n",
      "100%|██████████| 455/455 [00:00<00:00, 7434.16it/s]\n",
      "\n",
      "100%|██████████| 910/910 [00:00<00:00, 224096.80it/s]\n",
      " 81%|████████▏ | 110/135 [5:52:39<1:11:43, 172.16s/it]"
     ]
    },
    {
     "name": "stdout",
     "output_type": "stream",
     "text": [
      "{'max_depth': 18, 'n_estimators': 50, 'random_state': 100}\n",
      "3 0.7356729682988927 704381017.0118957 0.7355542003789658\n"
     ]
    },
    {
     "name": "stderr",
     "output_type": "stream",
     "text": [
      "\n",
      "100%|██████████| 455/455 [00:00<00:00, 9845.07it/s]\n",
      "\n",
      "100%|██████████| 910/910 [00:00<00:00, 220179.79it/s]\n",
      " 82%|████████▏ | 111/135 [5:55:05<1:05:44, 164.37s/it]"
     ]
    },
    {
     "name": "stdout",
     "output_type": "stream",
     "text": [
      "{'max_depth': 17, 'n_estimators': 50, 'random_state': 100}\n",
      "3 0.7516084852170353 309460297.67059517 0.7509066554595641\n"
     ]
    },
    {
     "name": "stderr",
     "output_type": "stream",
     "text": [
      "\n",
      "100%|██████████| 455/455 [00:00<00:00, 9754.94it/s]\n",
      "\n",
      "100%|██████████| 910/910 [00:00<00:00, 214935.05it/s]\n",
      " 83%|████████▎ | 112/135 [5:59:49<1:16:49, 200.43s/it]"
     ]
    },
    {
     "name": "stdout",
     "output_type": "stream",
     "text": [
      "{'max_depth': 18, 'n_estimators': 100, 'random_state': 100}\n",
      "3 0.5676336404242064 310517137.11137795 0.5604508413510343\n"
     ]
    },
    {
     "name": "stderr",
     "output_type": "stream",
     "text": [
      "\n",
      "100%|██████████| 455/455 [00:00<00:00, 9375.62it/s]\n",
      "\n",
      "100%|██████████| 910/910 [00:00<00:00, 212222.22it/s]\n",
      " 84%|████████▎ | 113/135 [6:03:31<1:15:48, 206.77s/it]"
     ]
    },
    {
     "name": "stdout",
     "output_type": "stream",
     "text": [
      "{'max_depth': 12, 'n_estimators': 80, 'random_state': 100}\n",
      "3 0.612026984283254 1343847151.7292309 0.6108559939451108\n"
     ]
    },
    {
     "name": "stderr",
     "output_type": "stream",
     "text": [
      "\n",
      "100%|██████████| 455/455 [00:00<00:00, 8775.34it/s]\n",
      "\n",
      "100%|██████████| 910/910 [00:00<00:00, 222438.17it/s]\n",
      " 84%|████████▍ | 114/135 [6:07:12<1:13:50, 210.95s/it]"
     ]
    },
    {
     "name": "stdout",
     "output_type": "stream",
     "text": [
      "{'max_depth': 11, 'n_estimators': 80, 'random_state': 100}\n",
      "3 0.5329262561060046 21554028.105341505 0.5311886071450795\n"
     ]
    },
    {
     "name": "stderr",
     "output_type": "stream",
     "text": [
      "\n",
      "100%|██████████| 455/455 [00:00<00:00, 9837.41it/s]\n",
      "\n",
      "100%|██████████| 910/910 [00:00<00:00, 230150.55it/s]\n",
      " 85%|████████▌ | 115/135 [6:11:50<1:17:00, 231.03s/it]"
     ]
    },
    {
     "name": "stdout",
     "output_type": "stream",
     "text": [
      "{'max_depth': 19, 'n_estimators': 100, 'random_state': 100}\n",
      "3 0.7748079110673769 153951737.57636994 0.7746701455126224\n"
     ]
    },
    {
     "name": "stderr",
     "output_type": "stream",
     "text": [
      "\n",
      "100%|██████████| 455/455 [00:00<00:00, 9688.43it/s]\n",
      "\n",
      "100%|██████████| 910/910 [00:00<00:00, 223650.34it/s]\n",
      " 86%|████████▌ | 116/135 [6:16:02<1:15:09, 237.37s/it]"
     ]
    },
    {
     "name": "stdout",
     "output_type": "stream",
     "text": [
      "{'max_depth': 18, 'n_estimators': 90, 'random_state': 100}\n",
      "3 0.6277951585043782 1146309231.9003112 0.6277762106450868\n"
     ]
    },
    {
     "name": "stderr",
     "output_type": "stream",
     "text": [
      "\n",
      "100%|██████████| 455/455 [00:00<00:00, 7310.06it/s]\n",
      "\n",
      "100%|██████████| 910/910 [00:00<00:00, 227557.18it/s]\n",
      " 87%|████████▋ | 117/135 [6:20:38<1:14:44, 249.16s/it]"
     ]
    },
    {
     "name": "stdout",
     "output_type": "stream",
     "text": [
      "{'max_depth': 17, 'n_estimators': 100, 'random_state': 100}\n",
      "3 0.711921743134096 505693996.1797865 0.7070940251475964\n"
     ]
    },
    {
     "name": "stderr",
     "output_type": "stream",
     "text": [
      "\n",
      "100%|██████████| 455/455 [00:00<00:00, 9828.95it/s]\n",
      "\n",
      "100%|██████████| 910/910 [00:00<00:00, 234117.44it/s]\n",
      " 87%|████████▋ | 118/135 [6:24:54<1:11:09, 251.17s/it]"
     ]
    },
    {
     "name": "stdout",
     "output_type": "stream",
     "text": [
      "{'max_depth': 12, 'n_estimators': 90, 'random_state': 100}\n",
      "3 0.49776816203632823 197062264.6890293 0.4962017974437877\n"
     ]
    },
    {
     "name": "stderr",
     "output_type": "stream",
     "text": [
      "\n",
      "100%|██████████| 455/455 [00:00<00:00, 10521.20it/s]\n",
      "\n",
      "100%|██████████| 910/910 [00:00<00:00, 237600.64it/s]\n",
      " 88%|████████▊ | 119/135 [6:29:10<1:07:18, 252.41s/it]"
     ]
    },
    {
     "name": "stdout",
     "output_type": "stream",
     "text": [
      "{'max_depth': 19, 'n_estimators': 90, 'random_state': 100}\n",
      "3 0.6356253338547484 1345922564.196171 0.6353035455607157\n"
     ]
    },
    {
     "name": "stderr",
     "output_type": "stream",
     "text": [
      "\n",
      "100%|██████████| 455/455 [00:00<00:00, 9778.84it/s]\n",
      "\n",
      "100%|██████████| 910/910 [00:00<00:00, 223742.11it/s]\n",
      " 89%|████████▉ | 120/135 [6:31:02<52:37, 210.50s/it]  "
     ]
    },
    {
     "name": "stdout",
     "output_type": "stream",
     "text": [
      "{'max_depth': 11, 'n_estimators': 40, 'random_state': 100}\n",
      "3 0.674664785404108 924922284.3495026 0.6731467927686579\n"
     ]
    },
    {
     "name": "stderr",
     "output_type": "stream",
     "text": [
      "\n",
      "100%|██████████| 455/455 [00:00<00:00, 9759.98it/s]\n",
      "\n",
      "100%|██████████| 910/910 [00:00<00:00, 234895.48it/s]\n",
      " 90%|████████▉ | 121/135 [6:35:49<54:28, 233.47s/it]"
     ]
    },
    {
     "name": "stdout",
     "output_type": "stream",
     "text": [
      "{'max_depth': 19, 'n_estimators': 100, 'random_state': 100}\n",
      "3 0.7343780251054057 496244350.8786767 0.732232116408648\n"
     ]
    },
    {
     "name": "stderr",
     "output_type": "stream",
     "text": [
      "\n",
      "100%|██████████| 455/455 [00:00<00:00, 9776.53it/s]\n",
      "\n",
      "100%|██████████| 910/910 [00:00<00:00, 219067.71it/s]\n",
      " 90%|█████████ | 122/135 [6:39:31<49:49, 229.98s/it]"
     ]
    },
    {
     "name": "stdout",
     "output_type": "stream",
     "text": [
      "{'max_depth': 14, 'n_estimators': 80, 'random_state': 100}\n",
      "3 0.45303688341073567 26851245.868942782 0.4452446318024984\n"
     ]
    },
    {
     "name": "stderr",
     "output_type": "stream",
     "text": [
      "\n",
      "100%|██████████| 455/455 [00:00<00:00, 9905.27it/s]\n",
      "\n",
      "100%|██████████| 910/910 [00:00<00:00, 228469.81it/s]\n",
      " 91%|█████████ | 123/135 [6:41:24<38:57, 194.82s/it]"
     ]
    },
    {
     "name": "stdout",
     "output_type": "stream",
     "text": [
      "{'max_depth': 14, 'n_estimators': 40, 'random_state': 100}\n",
      "3 0.6658642905926601 1377638092.1267948 0.6658471770333436\n"
     ]
    },
    {
     "name": "stderr",
     "output_type": "stream",
     "text": [
      "\n",
      "100%|██████████| 455/455 [00:00<00:00, 10459.50it/s]\n",
      "\n",
      "100%|██████████| 910/910 [00:00<00:00, 244495.33it/s]\n",
      " 92%|█████████▏| 124/135 [6:45:50<39:36, 216.08s/it]"
     ]
    },
    {
     "name": "stdout",
     "output_type": "stream",
     "text": [
      "{'max_depth': 18, 'n_estimators': 90, 'random_state': 100}\n",
      "3 0.5225255692742192 230949950.1569399 0.5225245246257211\n"
     ]
    },
    {
     "name": "stderr",
     "output_type": "stream",
     "text": [
      "\n",
      "100%|██████████| 455/455 [00:00<00:00, 10161.65it/s]\n",
      "\n",
      "100%|██████████| 910/910 [00:00<00:00, 229210.70it/s]\n",
      " 93%|█████████▎| 125/135 [6:50:00<37:43, 226.33s/it]"
     ]
    },
    {
     "name": "stdout",
     "output_type": "stream",
     "text": [
      "{'max_depth': 18, 'n_estimators': 90, 'random_state': 100}\n",
      "3 0.5013743572472058 278014638.0923116 0.5013104301047531\n"
     ]
    },
    {
     "name": "stderr",
     "output_type": "stream",
     "text": [
      "\n",
      "100%|██████████| 455/455 [00:00<00:00, 9742.39it/s]\n",
      "\n",
      "100%|██████████| 910/910 [00:00<00:00, 221637.34it/s]\n",
      " 93%|█████████▎| 126/135 [6:51:33<27:58, 186.49s/it]"
     ]
    },
    {
     "name": "stdout",
     "output_type": "stream",
     "text": [
      "{'max_depth': 17, 'n_estimators': 30, 'random_state': 100}\n",
      "3 0.7851899950732004 417941936.2485038 0.7820604725115086\n"
     ]
    },
    {
     "name": "stderr",
     "output_type": "stream",
     "text": [
      "\n",
      "100%|██████████| 455/455 [00:00<00:00, 9796.30it/s]\n",
      "\n",
      "100%|██████████| 910/910 [00:00<00:00, 235504.20it/s]\n",
      " 94%|█████████▍| 127/135 [6:56:17<28:45, 215.69s/it]"
     ]
    },
    {
     "name": "stdout",
     "output_type": "stream",
     "text": [
      "{'max_depth': 13, 'n_estimators': 100, 'random_state': 100}\n",
      "3 0.6953092795651699 593743759.1098491 0.6933736174846861\n"
     ]
    },
    {
     "name": "stderr",
     "output_type": "stream",
     "text": [
      "\n",
      "100%|██████████| 455/455 [00:00<00:00, 9723.73it/s]\n",
      "\n",
      "100%|██████████| 910/910 [00:00<00:00, 223270.94it/s]\n",
      " 95%|█████████▍| 128/135 [7:01:01<27:33, 236.22s/it]"
     ]
    },
    {
     "name": "stdout",
     "output_type": "stream",
     "text": [
      "{'max_depth': 17, 'n_estimators': 100, 'random_state': 100}\n",
      "3 0.7281594035684297 703946306.9178114 0.7137205378850605\n"
     ]
    },
    {
     "name": "stderr",
     "output_type": "stream",
     "text": [
      "\n",
      "100%|██████████| 455/455 [00:00<00:00, 9773.98it/s]\n",
      "\n",
      "100%|██████████| 910/910 [00:00<00:00, 226047.77it/s]\n",
      " 96%|█████████▌| 129/135 [7:04:42<23:08, 231.44s/it]"
     ]
    },
    {
     "name": "stdout",
     "output_type": "stream",
     "text": [
      "{'max_depth': 16, 'n_estimators': 80, 'random_state': 100}\n",
      "3 0.4512927606725168 993943982.8015615 0.4087776399719705\n"
     ]
    },
    {
     "name": "stderr",
     "output_type": "stream",
     "text": [
      "\n",
      "100%|██████████| 455/455 [00:00<00:00, 9507.67it/s]\n",
      "\n",
      "100%|██████████| 910/910 [00:00<00:00, 222321.57it/s]\n",
      " 96%|█████████▋| 130/135 [7:07:32<17:45, 213.08s/it]"
     ]
    },
    {
     "name": "stdout",
     "output_type": "stream",
     "text": [
      "{'max_depth': 13, 'n_estimators': 60, 'random_state': 100}\n",
      "3 0.6360765194652821 319135198.42532665 0.6360525104489436\n"
     ]
    },
    {
     "name": "stderr",
     "output_type": "stream",
     "text": [
      "\n",
      "100%|██████████| 455/455 [00:00<00:00, 9863.24it/s]\n",
      "\n",
      "100%|██████████| 910/910 [00:00<00:00, 235025.66it/s]\n",
      " 97%|█████████▋| 131/135 [7:10:46<13:49, 207.41s/it]"
     ]
    },
    {
     "name": "stdout",
     "output_type": "stream",
     "text": [
      "{'max_depth': 19, 'n_estimators': 70, 'random_state': 100}\n",
      "3 0.7336135193675197 755932534.775981 0.7322113863265001\n"
     ]
    },
    {
     "name": "stderr",
     "output_type": "stream",
     "text": [
      "\n",
      "100%|██████████| 455/455 [00:00<00:00, 9859.77it/s]\n",
      "\n",
      "100%|██████████| 910/910 [00:00<00:00, 234060.01it/s]\n",
      " 98%|█████████▊| 132/135 [7:13:13<09:28, 189.41s/it]"
     ]
    },
    {
     "name": "stdout",
     "output_type": "stream",
     "text": [
      "{'max_depth': 13, 'n_estimators': 50, 'random_state': 100}\n",
      "3 0.5671282139647158 1005694863.4364367 0.5661559858551231\n"
     ]
    },
    {
     "name": "stderr",
     "output_type": "stream",
     "text": [
      "\n",
      "100%|██████████| 455/455 [00:00<00:00, 9369.50it/s]\n",
      "\n",
      "100%|██████████| 910/910 [00:00<00:00, 219926.05it/s]\n",
      " 99%|█████████▊| 133/135 [7:16:08<06:09, 184.97s/it]"
     ]
    },
    {
     "name": "stdout",
     "output_type": "stream",
     "text": [
      "{'max_depth': 13, 'n_estimators': 60, 'random_state': 100}\n",
      "3 0.7033410820769856 13676163.893256001 0.7005339270959196\n"
     ]
    },
    {
     "name": "stderr",
     "output_type": "stream",
     "text": [
      "\n",
      "100%|██████████| 455/455 [00:00<00:00, 10073.31it/s]\n",
      "\n",
      "100%|██████████| 910/910 [00:00<00:00, 218641.04it/s]\n",
      " 99%|█████████▉| 134/135 [7:17:35<02:35, 155.55s/it]"
     ]
    },
    {
     "name": "stdout",
     "output_type": "stream",
     "text": [
      "{'max_depth': 11, 'n_estimators': 30, 'random_state': 100}\n",
      "3 0.6491145256403985 1472007198.6270952 0.6488092597547493\n"
     ]
    },
    {
     "name": "stderr",
     "output_type": "stream",
     "text": [
      "\n",
      "100%|██████████| 455/455 [00:00<00:00, 10037.28it/s]\n",
      "\n",
      "100%|██████████| 910/910 [00:00<00:00, 231308.20it/s]\n",
      "100%|██████████| 135/135 [7:21:37<00:00, 196.28s/it]"
     ]
    },
    {
     "name": "stdout",
     "output_type": "stream",
     "text": [
      "{'max_depth': 12, 'n_estimators': 90, 'random_state': 100}\n",
      "3 0.5053994592718181 24098927.857342288 0.5014103240269887\n"
     ]
    },
    {
     "name": "stderr",
     "output_type": "stream",
     "text": [
      "\n"
     ]
    }
   ],
   "source": [
    "order_lags = 3\n",
    "#result = pd.DataFrame(columns=('radar', 'mse', 'r2', 'explained_variance', 'n_estimators'))\n",
    "n_estimators = pd.read_csv('../dataset/result_mean_estimator1.csv')\n",
    "result = pd.DataFrame(columns=('radar', 'mse', 'r2', 'explained_variance', 'n_estimators', 'max_depth'))\n",
    "for radar in tqdm(radars):\n",
    "    df_forecasting = pd.read_csv('../dataset/regressor_mean1/regressor_mean%i_%s.csv'%(order_lags, radar))\n",
    "    n_esti = n_estimators[n_estimators['radar']==radar][['n_estimators']].values[0]\n",
    "    #print(n_esti)\n",
    "    pred, par = hyperparameter_tuning1(df_forecasting, coef, radar, n_esti, range(10, 20))\n",
    "    pred = drop_altitude(pred)\n",
    "    true = drop_altitude(df_forecasting['linear_eta'].values)\n",
    "    test_y = true[(len(true)-len(pred)):]\n",
    "    train_y = true[:(len(true)-len(pred))]\n",
    "    #rfm.line_plot1(ts_1 = test_y, ts_label_1 = rfm.radar, ts_2 = pred_y, ts_label_2 = '%s - Forecasting'%rfm.radar, title = '%s forecasting (testing data)'%rfm.radar, m = 'weather_lags5')\n",
    "    #rfm.line_plot2(ts_1 = test_y, ts_label_1 = '%s observed'%rfm.radar, ts_2 = pred_y, ts_label_2 = '%s - Forecasting'%rfm.radar, ts_3 = train_y, ts_label_3 = '%s training'%rfm.radar, title = '%s forecasting(training + testing)'%rfm.radar, m = 'weather_lags%i'%j)\n",
    "    var = explained_variance_score(test_y, pred)\n",
    "    mse = mean_squared_error(test_y, pred)\n",
    "    r2 = r2_score(test_y, pred)\n",
    "    print(order_lags, var, mse, r2)\n",
    "    result = result.append(pd.DataFrame({'radar':[radar],\n",
    "                                         'mse':[np.round(mse, 3)],\n",
    "                                         'r2':[np.round(r2, 3)],\n",
    "                                         'explained_variance':[np.round(var, 3)],\n",
    "                                         'n_estimators':n_esti, \n",
    "                                         'max_depth':[par['max_depth']]}),\n",
    "                           ignore_index = True)\n",
    "    result.to_csv('../dataset/result_mean_depth.csv', index = False)\n",
    "    pd.DataFrame(pred).to_csv('../dataset/pred_mean1/pred_mean_%i_opt_%s.csv'%(order_lags, radar), index = False)"
   ]
  },
  {
   "cell_type": "code",
   "execution_count": 39,
   "id": "d2cc8b4f",
   "metadata": {},
   "outputs": [],
   "source": [
    "# Generate the configuration file with best performance parameters\n",
    "import json\n",
    "def WriteJson(JsonFile, data, radars):\n",
    "    with open(JsonFile,'w',encoding = 'GBK') as f1:\n",
    "        str1 = {'lags':str(3), 'random_state':str(100)}\n",
    "        f1.writelines(json.dumps(str1, ensure_ascii=False)+'\\n')\n",
    "        for i in range(len(data)):\n",
    "            str1 ={'radar':data.iloc[i,0], 'n_estimators':str(data.iloc[i,4]), 'max_depth': str(data.iloc[i,5])}\n",
    "                   #'max_depth':str(data.loc(radar, 'max_depth'))}\n",
    "            f1.writelines(json.dumps(str1, ensure_ascii=False)+'\\n')\n"
   ]
  },
  {
   "cell_type": "code",
   "execution_count": 41,
   "id": "2af7e804",
   "metadata": {},
   "outputs": [],
   "source": [
    "radars = pd.read_csv('../dataset/radar.csv').values.reshape(1, -1)\n",
    "radars = radars[0]\n",
    "result = pd.read_csv('../dataset/result_mean_depth.csv')\n",
    "WriteJson('config.json', result, radars)"
   ]
  },
  {
   "cell_type": "code",
   "execution_count": null,
   "id": "5b38603a",
   "metadata": {},
   "outputs": [],
   "source": []
  }
 ],
 "metadata": {
  "kernelspec": {
   "display_name": "Python 3",
   "language": "python",
   "name": "python3"
  },
  "language_info": {
   "codemirror_mode": {
    "name": "ipython",
    "version": 3
   },
   "file_extension": ".py",
   "mimetype": "text/x-python",
   "name": "python",
   "nbconvert_exporter": "python",
   "pygments_lexer": "ipython3",
   "version": "3.8.8"
  }
 },
 "nbformat": 4,
 "nbformat_minor": 5
}
