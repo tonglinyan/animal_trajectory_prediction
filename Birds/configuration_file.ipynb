{
 "cells": [
  {
   "cell_type": "code",
   "execution_count": 3,
   "id": "6c99c372",
   "metadata": {},
   "outputs": [],
   "source": [
    "import json\n",
    "import pandas as pd"
   ]
  },
  {
   "cell_type": "code",
   "execution_count": 4,
   "id": "534a73f9",
   "metadata": {},
   "outputs": [],
   "source": [
    "def ReadJson(JsonFile):\n",
    "    df = pd.DataFrame(columns = ['radar_id', 'n_estimators'])\n",
    "    with open(JsonFile, 'r') as f:\n",
    "        i = 0\n",
    "        for jsonstr in f.readlines(): \n",
    "            data = json.loads(jsonstr)\n",
    "            if i==0:\n",
    "                lags = int(data['lags'])\n",
    "                random_state = int(data['random_state'])\n",
    "            else:\n",
    "                df = df.append(pd.DataFrame({'radar_id':[data['radar']],\n",
    "                                             'n_estimators':[int(data['n_estimators'])], \n",
    "                                             'max_depth':[int(data['max_depth'])]}),\n",
    "                                   ignore_index = True)\n",
    "            i += 1\n",
    "    return lags, random_state, df\n",
    "    \n",
    "# Generate the configuration file with best performance parameters\n",
    "def WriteJson(JsonFile, data, radars):\n",
    "    with open(JsonFile,'w',encoding = 'GBK') as f1:\n",
    "        str1 = {'lags':str(3), 'random_state':str(100)}\n",
    "        f1.writelines(json.dumps(str1, ensure_ascii=False)+'\\n')\n",
    "        for i in range(len(data)):\n",
    "            str1 ={'radar':data.iloc[i,0], 'n_estimators':str(data.iloc[i,4]), 'max_depth': str(data.iloc[i,5])}\n",
    "                   #'max_depth':str(data.loc(radar, 'max_depth'))}\n",
    "            f1.writelines(json.dumps(str1, ensure_ascii=False)+'\\n')"
   ]
  },
  {
   "cell_type": "code",
   "execution_count": 5,
   "id": "f3b7722d",
   "metadata": {},
   "outputs": [
    {
     "data": {
      "text/plain": [
       "(3,\n",
       " 100,\n",
       "     radar_id n_estimators  max_depth\n",
       " 0       KABR           30       16.0\n",
       " 1       KABX           50       14.0\n",
       " 2       KAKQ           90       13.0\n",
       " 3       KAMA          100       17.0\n",
       " 4       KAMX           50       15.0\n",
       " ..       ...          ...        ...\n",
       " 130     KUEX           70       19.0\n",
       " 131     KVNX           50       13.0\n",
       " 132     KVTX           60       13.0\n",
       " 133     KVWX           30       11.0\n",
       " 134     KYUX           90       12.0\n",
       " \n",
       " [135 rows x 3 columns])"
      ]
     },
     "execution_count": 5,
     "metadata": {},
     "output_type": "execute_result"
    }
   ],
   "source": [
    "radars = pd.read_csv('../dataset/radar.csv').values.reshape(1, -1)\n",
    "radars = radars[0]\n",
    "result = pd.read_csv('../dataset/result_mean_depth.csv')\n",
    "WriteJson('config.json', result, radars)\n",
    "ReadJson('config.json')"
   ]
  },
  {
   "cell_type": "code",
   "execution_count": null,
   "id": "584eaec7",
   "metadata": {},
   "outputs": [],
   "source": []
  }
 ],
 "metadata": {
  "kernelspec": {
   "display_name": "Python 3",
   "language": "python",
   "name": "python3"
  },
  "language_info": {
   "codemirror_mode": {
    "name": "ipython",
    "version": 3
   },
   "file_extension": ".py",
   "mimetype": "text/x-python",
   "name": "python",
   "nbconvert_exporter": "python",
   "pygments_lexer": "ipython3",
   "version": "3.8.8"
  }
 },
 "nbformat": 4,
 "nbformat_minor": 5
}
